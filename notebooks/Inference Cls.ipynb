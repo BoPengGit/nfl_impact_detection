{
 "cells": [
  {
   "cell_type": "code",
   "execution_count": 1,
   "metadata": {},
   "outputs": [],
   "source": [
    "%load_ext autoreload\n",
    "%autoreload 2"
   ]
  },
  {
   "cell_type": "code",
   "execution_count": 2,
   "metadata": {},
   "outputs": [
    {
     "name": "stdout",
     "output_type": "stream",
     "text": [
      "/home/theo/kaggle/nfl_impact/src\n"
     ]
    }
   ],
   "source": [
    "cd ../src/"
   ]
  },
  {
   "cell_type": "markdown",
   "metadata": {},
   "source": [
    "## Imports"
   ]
  },
  {
   "cell_type": "code",
   "execution_count": 3,
   "metadata": {},
   "outputs": [],
   "source": [
    "import os\n",
    "import re\n",
    "import cv2\n",
    "import time\n",
    "import json\n",
    "import torch\n",
    "import imageio\n",
    "import numpy as np\n",
    "import pandas as pd\n",
    "import seaborn as sns\n",
    "import matplotlib.pyplot as plt\n",
    "\n",
    "from collections import Counter\n",
    "from tqdm.notebook import tqdm\n",
    "from skimage.transform import resize\n",
    "\n",
    "from sklearn.metrics import roc_auc_score, f1_score"
   ]
  },
  {
   "cell_type": "code",
   "execution_count": 4,
   "metadata": {},
   "outputs": [],
   "source": [
    "from params import *\n",
    "from utils.plot import visualize_preds_indexed, visualize_preds\n",
    "from utils.metrics import boxes_f1_score, precision_calc, get_boxes_from_df"
   ]
  },
  {
   "cell_type": "markdown",
   "metadata": {},
   "source": [
    "## Load"
   ]
  },
  {
   "cell_type": "code",
   "execution_count": 5,
   "metadata": {},
   "outputs": [],
   "source": [
    "df_train = pd.read_csv(DATA_PATH + 'df_train.csv')\n",
    "folds = pd.read_csv(OUT_DIR + \"folds.csv\")\n",
    "df_train = df_train.merge(folds, on=\"video\")\n",
    "df_train['truth'] = (df_train['impact'] == 1) & (df_train['confidence'] > 1) & (df_train['visibility'] > 0) \n",
    "\n",
    "\n",
    "df_val = df_train[df_train[\"val_idx\"] == 0]"
   ]
  },
  {
   "cell_type": "code",
   "execution_count": 6,
   "metadata": {},
   "outputs": [],
   "source": [
    "videos = df_val['video'].unique()"
   ]
  },
  {
   "cell_type": "code",
   "execution_count": 7,
   "metadata": {},
   "outputs": [],
   "source": [
    "# PREDS_PATH = OUT_DIR + '21_12/'\n",
    "# epoch = 11\n",
    "# preds = pd.read_csv(PREDS_PATH + f\"pred_0_fold_epoch_{epoch}_score_001.csv\")\n",
    "\n",
    "PREDS_PATH = OUT_DIR + '22_12/'\n",
    "epoch = 9\n",
    "preds = pd.read_csv(PREDS_PATH + f\"pred_0_fold_epoch_{epoch}_score_001_aug.csv\")"
   ]
  },
  {
   "cell_type": "code",
   "execution_count": 8,
   "metadata": {},
   "outputs": [],
   "source": [
    "preds = preds[preds['pred'] > 0.1].reset_index(drop=True)"
   ]
  },
  {
   "cell_type": "markdown",
   "metadata": {},
   "source": [
    "### Params"
   ]
  },
  {
   "cell_type": "code",
   "execution_count": 9,
   "metadata": {},
   "outputs": [],
   "source": [
    "# Probability thresholding\n",
    "THRESHOLD_PRED = 0.8\n",
    "\n",
    "# Adjacency post-processing\n",
    "NMS_THRESHOLD = 0.35\n",
    "THRESHOLD_IOU = 0.35\n",
    "MAX_DIST = 4\n",
    "MIN_CLUST_SIZE = 0\n",
    "\n",
    "# View post-processing\n",
    "MIN_DIST = 6\n",
    "\n",
    "# Impact post-processing\n",
    "MAX_FRAME_DIST = 10"
   ]
  },
  {
   "cell_type": "markdown",
   "metadata": {},
   "source": [
    "## Score"
   ]
  },
  {
   "cell_type": "code",
   "execution_count": 10,
   "metadata": {},
   "outputs": [],
   "source": [
    "pred_val = preds[preds['pred'] > THRESHOLD_PRED].reset_index(drop=True)"
   ]
  },
  {
   "cell_type": "code",
   "execution_count": 11,
   "metadata": {},
   "outputs": [],
   "source": [
    "# scores = pred_val.groupby('video').agg(list)['pred'][videos].tolist()"
   ]
  },
  {
   "cell_type": "code",
   "execution_count": 12,
   "metadata": {},
   "outputs": [],
   "source": [
    "gt_boxes = get_boxes_from_df(df_val[df_val['truth'] == 1], videos)\n",
    "pred_boxes = get_boxes_from_df(pred_val, videos)"
   ]
  },
  {
   "cell_type": "code",
   "execution_count": 13,
   "metadata": {
    "scrolled": false
   },
   "outputs": [
    {
     "name": "stdout",
     "output_type": "stream",
     "text": [
      " -> CV score is 0.1417\n"
     ]
    }
   ],
   "source": [
    "score = boxes_f1_score(pred_boxes, gt_boxes)\n",
    "\n",
    "print(f' -> CV score is {score:.4f}')"
   ]
  },
  {
   "cell_type": "markdown",
   "metadata": {},
   "source": [
    "### Post-processing"
   ]
  },
  {
   "cell_type": "code",
   "execution_count": 14,
   "metadata": {},
   "outputs": [],
   "source": [
    "from post_processing.adjacency import post_process_adjacency"
   ]
  },
  {
   "cell_type": "code",
   "execution_count": 15,
   "metadata": {},
   "outputs": [],
   "source": [
    "df_pred_pp = pred_val.copy()"
   ]
  },
  {
   "cell_type": "code",
   "execution_count": 16,
   "metadata": {},
   "outputs": [
    {
     "data": {
      "application/vnd.jupyter.widget-view+json": {
       "model_id": "bbb52047442046d298ff34479109234e",
       "version_major": 2,
       "version_minor": 0
      },
      "text/plain": [
       "HBox(children=(HTML(value=''), FloatProgress(value=0.0, max=24.0), HTML(value='')))"
      ]
     },
     "metadata": {},
     "output_type": "display_data"
    },
    {
     "name": "stdout",
     "output_type": "stream",
     "text": [
      "\n"
     ]
    }
   ],
   "source": [
    "df_pred_pp = post_process_adjacency(\n",
    "    df_pred_pp,\n",
    "    threshold=THRESHOLD_IOU,\n",
    "    max_dist=MAX_DIST,\n",
    "    min_clust_size=MIN_CLUST_SIZE,\n",
    ")"
   ]
  },
  {
   "cell_type": "code",
   "execution_count": 17,
   "metadata": {
    "scrolled": true
   },
   "outputs": [
    {
     "name": "stdout",
     "output_type": "stream",
     "text": [
      " -> CV score is 0.3454\n"
     ]
    }
   ],
   "source": [
    "pred_boxes_pp = get_boxes_from_df(df_pred_pp, videos)\n",
    "score = boxes_f1_score(pred_boxes_pp, gt_boxes)\n",
    "\n",
    "print(f' -> CV score is {score:.4f}')"
   ]
  },
  {
   "cell_type": "code",
   "execution_count": 18,
   "metadata": {},
   "outputs": [],
   "source": [
    "df_pred = preds.copy()\n",
    "df_pred = pd.read_csv('../output/df_preds.csv')"
   ]
  },
  {
   "cell_type": "code",
   "execution_count": 19,
   "metadata": {},
   "outputs": [
    {
     "data": {
      "text/html": [
       "<div>\n",
       "<style scoped>\n",
       "    .dataframe tbody tr th:only-of-type {\n",
       "        vertical-align: middle;\n",
       "    }\n",
       "\n",
       "    .dataframe tbody tr th {\n",
       "        vertical-align: top;\n",
       "    }\n",
       "\n",
       "    .dataframe thead th {\n",
       "        text-align: right;\n",
       "    }\n",
       "</style>\n",
       "<table border=\"1\" class=\"dataframe\">\n",
       "  <thead>\n",
       "    <tr style=\"text-align: right;\">\n",
       "      <th></th>\n",
       "      <th>gameKey</th>\n",
       "      <th>playID</th>\n",
       "      <th>view</th>\n",
       "      <th>video</th>\n",
       "      <th>frame</th>\n",
       "      <th>left</th>\n",
       "      <th>width</th>\n",
       "      <th>top</th>\n",
       "      <th>height</th>\n",
       "      <th>pred</th>\n",
       "      <th>...</th>\n",
       "      <th>pred_cls_3d_29_6</th>\n",
       "      <th>pred_cls_3d_30_1</th>\n",
       "      <th>pred_cls_3d_30_0</th>\n",
       "      <th>pred_cls_blend</th>\n",
       "      <th>pred_cls_3d_30_3</th>\n",
       "      <th>pred_cls_3d_30_6</th>\n",
       "      <th>pred_cls_3d_02_5</th>\n",
       "      <th>scores</th>\n",
       "      <th>pred_cls_3d_02_7</th>\n",
       "      <th>pred_cls_3d_02_13</th>\n",
       "    </tr>\n",
       "  </thead>\n",
       "  <tbody>\n",
       "    <tr>\n",
       "      <th>0</th>\n",
       "      <td>57586</td>\n",
       "      <td>540</td>\n",
       "      <td>Endzone</td>\n",
       "      <td>57586_000540_Endzone.mp4</td>\n",
       "      <td>1</td>\n",
       "      <td>262</td>\n",
       "      <td>22</td>\n",
       "      <td>311</td>\n",
       "      <td>33</td>\n",
       "      <td>0.184864</td>\n",
       "      <td>...</td>\n",
       "      <td>0.001065</td>\n",
       "      <td>0.001398</td>\n",
       "      <td>0.000895</td>\n",
       "      <td>0.015899</td>\n",
       "      <td>0.000864</td>\n",
       "      <td>0.001965</td>\n",
       "      <td>0.000728</td>\n",
       "      <td>0.184864</td>\n",
       "      <td>0.000091</td>\n",
       "      <td>0.002800</td>\n",
       "    </tr>\n",
       "    <tr>\n",
       "      <th>1</th>\n",
       "      <td>57586</td>\n",
       "      <td>540</td>\n",
       "      <td>Endzone</td>\n",
       "      <td>57586_000540_Endzone.mp4</td>\n",
       "      <td>2</td>\n",
       "      <td>262</td>\n",
       "      <td>22</td>\n",
       "      <td>311</td>\n",
       "      <td>33</td>\n",
       "      <td>0.230077</td>\n",
       "      <td>...</td>\n",
       "      <td>0.001065</td>\n",
       "      <td>0.001398</td>\n",
       "      <td>0.000895</td>\n",
       "      <td>0.013188</td>\n",
       "      <td>0.000864</td>\n",
       "      <td>0.001965</td>\n",
       "      <td>0.000728</td>\n",
       "      <td>0.230077</td>\n",
       "      <td>0.000091</td>\n",
       "      <td>0.002800</td>\n",
       "    </tr>\n",
       "    <tr>\n",
       "      <th>2</th>\n",
       "      <td>57586</td>\n",
       "      <td>540</td>\n",
       "      <td>Endzone</td>\n",
       "      <td>57586_000540_Endzone.mp4</td>\n",
       "      <td>3</td>\n",
       "      <td>262</td>\n",
       "      <td>22</td>\n",
       "      <td>311</td>\n",
       "      <td>33</td>\n",
       "      <td>0.240801</td>\n",
       "      <td>...</td>\n",
       "      <td>0.001065</td>\n",
       "      <td>0.001398</td>\n",
       "      <td>0.000895</td>\n",
       "      <td>0.012845</td>\n",
       "      <td>0.000864</td>\n",
       "      <td>0.001965</td>\n",
       "      <td>0.000728</td>\n",
       "      <td>0.240801</td>\n",
       "      <td>0.000091</td>\n",
       "      <td>0.002800</td>\n",
       "    </tr>\n",
       "    <tr>\n",
       "      <th>3</th>\n",
       "      <td>57586</td>\n",
       "      <td>540</td>\n",
       "      <td>Endzone</td>\n",
       "      <td>57586_000540_Endzone.mp4</td>\n",
       "      <td>4</td>\n",
       "      <td>262</td>\n",
       "      <td>22</td>\n",
       "      <td>311</td>\n",
       "      <td>33</td>\n",
       "      <td>0.216231</td>\n",
       "      <td>...</td>\n",
       "      <td>0.001065</td>\n",
       "      <td>0.001398</td>\n",
       "      <td>0.000895</td>\n",
       "      <td>0.012742</td>\n",
       "      <td>0.000864</td>\n",
       "      <td>0.001965</td>\n",
       "      <td>0.000728</td>\n",
       "      <td>0.216231</td>\n",
       "      <td>0.000091</td>\n",
       "      <td>0.002800</td>\n",
       "    </tr>\n",
       "    <tr>\n",
       "      <th>4</th>\n",
       "      <td>57586</td>\n",
       "      <td>540</td>\n",
       "      <td>Endzone</td>\n",
       "      <td>57586_000540_Endzone.mp4</td>\n",
       "      <td>5</td>\n",
       "      <td>262</td>\n",
       "      <td>22</td>\n",
       "      <td>311</td>\n",
       "      <td>33</td>\n",
       "      <td>0.150308</td>\n",
       "      <td>...</td>\n",
       "      <td>0.001065</td>\n",
       "      <td>0.001398</td>\n",
       "      <td>0.000895</td>\n",
       "      <td>0.012606</td>\n",
       "      <td>0.000864</td>\n",
       "      <td>0.001965</td>\n",
       "      <td>0.000728</td>\n",
       "      <td>0.150308</td>\n",
       "      <td>0.000091</td>\n",
       "      <td>0.002800</td>\n",
       "    </tr>\n",
       "    <tr>\n",
       "      <th>...</th>\n",
       "      <td>...</td>\n",
       "      <td>...</td>\n",
       "      <td>...</td>\n",
       "      <td>...</td>\n",
       "      <td>...</td>\n",
       "      <td>...</td>\n",
       "      <td>...</td>\n",
       "      <td>...</td>\n",
       "      <td>...</td>\n",
       "      <td>...</td>\n",
       "      <td>...</td>\n",
       "      <td>...</td>\n",
       "      <td>...</td>\n",
       "      <td>...</td>\n",
       "      <td>...</td>\n",
       "      <td>...</td>\n",
       "      <td>...</td>\n",
       "      <td>...</td>\n",
       "      <td>...</td>\n",
       "      <td>...</td>\n",
       "      <td>...</td>\n",
       "    </tr>\n",
       "    <tr>\n",
       "      <th>19880</th>\n",
       "      <td>58107</td>\n",
       "      <td>4362</td>\n",
       "      <td>Sideline</td>\n",
       "      <td>58107_004362_Sideline.mp4</td>\n",
       "      <td>469</td>\n",
       "      <td>300</td>\n",
       "      <td>38</td>\n",
       "      <td>450</td>\n",
       "      <td>35</td>\n",
       "      <td>0.987954</td>\n",
       "      <td>...</td>\n",
       "      <td>0.625361</td>\n",
       "      <td>0.040857</td>\n",
       "      <td>0.090510</td>\n",
       "      <td>0.133984</td>\n",
       "      <td>0.059651</td>\n",
       "      <td>0.210945</td>\n",
       "      <td>0.005276</td>\n",
       "      <td>0.987954</td>\n",
       "      <td>0.290548</td>\n",
       "      <td>0.001630</td>\n",
       "    </tr>\n",
       "    <tr>\n",
       "      <th>19881</th>\n",
       "      <td>58107</td>\n",
       "      <td>4362</td>\n",
       "      <td>Sideline</td>\n",
       "      <td>58107_004362_Sideline.mp4</td>\n",
       "      <td>470</td>\n",
       "      <td>298</td>\n",
       "      <td>37</td>\n",
       "      <td>450</td>\n",
       "      <td>35</td>\n",
       "      <td>0.994125</td>\n",
       "      <td>...</td>\n",
       "      <td>0.476308</td>\n",
       "      <td>0.031630</td>\n",
       "      <td>0.177316</td>\n",
       "      <td>0.094148</td>\n",
       "      <td>0.151503</td>\n",
       "      <td>0.464457</td>\n",
       "      <td>0.003448</td>\n",
       "      <td>0.994125</td>\n",
       "      <td>0.278926</td>\n",
       "      <td>0.002118</td>\n",
       "    </tr>\n",
       "    <tr>\n",
       "      <th>19882</th>\n",
       "      <td>58107</td>\n",
       "      <td>4362</td>\n",
       "      <td>Sideline</td>\n",
       "      <td>58107_004362_Sideline.mp4</td>\n",
       "      <td>471</td>\n",
       "      <td>293</td>\n",
       "      <td>38</td>\n",
       "      <td>450</td>\n",
       "      <td>35</td>\n",
       "      <td>0.989209</td>\n",
       "      <td>...</td>\n",
       "      <td>0.230620</td>\n",
       "      <td>0.055825</td>\n",
       "      <td>0.240954</td>\n",
       "      <td>0.135178</td>\n",
       "      <td>0.324442</td>\n",
       "      <td>0.569888</td>\n",
       "      <td>0.014813</td>\n",
       "      <td>0.989209</td>\n",
       "      <td>0.906283</td>\n",
       "      <td>0.006567</td>\n",
       "    </tr>\n",
       "    <tr>\n",
       "      <th>19883</th>\n",
       "      <td>58107</td>\n",
       "      <td>4362</td>\n",
       "      <td>Sideline</td>\n",
       "      <td>58107_004362_Sideline.mp4</td>\n",
       "      <td>472</td>\n",
       "      <td>291</td>\n",
       "      <td>36</td>\n",
       "      <td>450</td>\n",
       "      <td>35</td>\n",
       "      <td>0.991600</td>\n",
       "      <td>...</td>\n",
       "      <td>0.232335</td>\n",
       "      <td>0.023035</td>\n",
       "      <td>0.312849</td>\n",
       "      <td>0.180950</td>\n",
       "      <td>0.493354</td>\n",
       "      <td>0.806137</td>\n",
       "      <td>0.061685</td>\n",
       "      <td>0.991600</td>\n",
       "      <td>0.895978</td>\n",
       "      <td>0.020090</td>\n",
       "    </tr>\n",
       "    <tr>\n",
       "      <th>19884</th>\n",
       "      <td>58107</td>\n",
       "      <td>4362</td>\n",
       "      <td>Sideline</td>\n",
       "      <td>58107_004362_Sideline.mp4</td>\n",
       "      <td>473</td>\n",
       "      <td>293</td>\n",
       "      <td>36</td>\n",
       "      <td>450</td>\n",
       "      <td>35</td>\n",
       "      <td>0.969897</td>\n",
       "      <td>...</td>\n",
       "      <td>0.329885</td>\n",
       "      <td>0.031068</td>\n",
       "      <td>0.234962</td>\n",
       "      <td>0.168691</td>\n",
       "      <td>0.372133</td>\n",
       "      <td>0.681568</td>\n",
       "      <td>0.044097</td>\n",
       "      <td>0.969897</td>\n",
       "      <td>0.940018</td>\n",
       "      <td>0.011864</td>\n",
       "    </tr>\n",
       "  </tbody>\n",
       "</table>\n",
       "<p>19885 rows × 30 columns</p>\n",
       "</div>"
      ],
      "text/plain": [
       "       gameKey  playID      view                      video  frame  left  \\\n",
       "0        57586     540   Endzone   57586_000540_Endzone.mp4      1   262   \n",
       "1        57586     540   Endzone   57586_000540_Endzone.mp4      2   262   \n",
       "2        57586     540   Endzone   57586_000540_Endzone.mp4      3   262   \n",
       "3        57586     540   Endzone   57586_000540_Endzone.mp4      4   262   \n",
       "4        57586     540   Endzone   57586_000540_Endzone.mp4      5   262   \n",
       "...        ...     ...       ...                        ...    ...   ...   \n",
       "19880    58107    4362  Sideline  58107_004362_Sideline.mp4    469   300   \n",
       "19881    58107    4362  Sideline  58107_004362_Sideline.mp4    470   298   \n",
       "19882    58107    4362  Sideline  58107_004362_Sideline.mp4    471   293   \n",
       "19883    58107    4362  Sideline  58107_004362_Sideline.mp4    472   291   \n",
       "19884    58107    4362  Sideline  58107_004362_Sideline.mp4    473   293   \n",
       "\n",
       "       width  top  height      pred  ... pred_cls_3d_29_6  pred_cls_3d_30_1  \\\n",
       "0         22  311      33  0.184864  ...         0.001065          0.001398   \n",
       "1         22  311      33  0.230077  ...         0.001065          0.001398   \n",
       "2         22  311      33  0.240801  ...         0.001065          0.001398   \n",
       "3         22  311      33  0.216231  ...         0.001065          0.001398   \n",
       "4         22  311      33  0.150308  ...         0.001065          0.001398   \n",
       "...      ...  ...     ...       ...  ...              ...               ...   \n",
       "19880     38  450      35  0.987954  ...         0.625361          0.040857   \n",
       "19881     37  450      35  0.994125  ...         0.476308          0.031630   \n",
       "19882     38  450      35  0.989209  ...         0.230620          0.055825   \n",
       "19883     36  450      35  0.991600  ...         0.232335          0.023035   \n",
       "19884     36  450      35  0.969897  ...         0.329885          0.031068   \n",
       "\n",
       "       pred_cls_3d_30_0  pred_cls_blend  pred_cls_3d_30_3 pred_cls_3d_30_6  \\\n",
       "0              0.000895        0.015899          0.000864         0.001965   \n",
       "1              0.000895        0.013188          0.000864         0.001965   \n",
       "2              0.000895        0.012845          0.000864         0.001965   \n",
       "3              0.000895        0.012742          0.000864         0.001965   \n",
       "4              0.000895        0.012606          0.000864         0.001965   \n",
       "...                 ...             ...               ...              ...   \n",
       "19880          0.090510        0.133984          0.059651         0.210945   \n",
       "19881          0.177316        0.094148          0.151503         0.464457   \n",
       "19882          0.240954        0.135178          0.324442         0.569888   \n",
       "19883          0.312849        0.180950          0.493354         0.806137   \n",
       "19884          0.234962        0.168691          0.372133         0.681568   \n",
       "\n",
       "       pred_cls_3d_02_5    scores  pred_cls_3d_02_7  pred_cls_3d_02_13  \n",
       "0              0.000728  0.184864          0.000091           0.002800  \n",
       "1              0.000728  0.230077          0.000091           0.002800  \n",
       "2              0.000728  0.240801          0.000091           0.002800  \n",
       "3              0.000728  0.216231          0.000091           0.002800  \n",
       "4              0.000728  0.150308          0.000091           0.002800  \n",
       "...                 ...       ...               ...                ...  \n",
       "19880          0.005276  0.987954          0.290548           0.001630  \n",
       "19881          0.003448  0.994125          0.278926           0.002118  \n",
       "19882          0.014813  0.989209          0.906283           0.006567  \n",
       "19883          0.061685  0.991600          0.895978           0.020090  \n",
       "19884          0.044097  0.969897          0.940018           0.011864  \n",
       "\n",
       "[19885 rows x 30 columns]"
      ]
     },
     "execution_count": 19,
     "metadata": {},
     "output_type": "execute_result"
    }
   ],
   "source": [
    "df_pred"
   ]
  },
  {
   "cell_type": "markdown",
   "metadata": {},
   "source": [
    "# Classifier 3D inference"
   ]
  },
  {
   "cell_type": "code",
   "execution_count": 21,
   "metadata": {},
   "outputs": [
    {
     "name": "stderr",
     "output_type": "stream",
     "text": [
      "../mmaction2/mmaction/models/backbones/resnet3d.py:18: UserWarning: Please install mmdet to use MMDET_SHARED_HEADS\n",
      "  warnings.warn('Please install mmdet to use MMDET_SHARED_HEADS')\n",
      "../mmaction2/mmaction/models/backbones/resnet3d_slowfast.py:17: UserWarning: Please install mmdet to use MMDET_BACKBONES\n",
      "  warnings.warn('Please install mmdet to use MMDET_BACKBONES')\n",
      "../mmaction2/mmaction/models/backbones/resnet3d_slowonly.py:10: UserWarning: Please install mmdet to use MMDET_BACKBONES\n",
      "  warnings.warn('Please install mmdet to use MMDET_BACKBONES')\n",
      "../mmaction2/mmaction/models/backbones/resnet_tin.py:12: UserWarning: Please install mmcv-full to support \"tin_shift\"\n",
      "  warnings.warn('Please install mmcv-full to support \"tin_shift\"')\n",
      "../mmaction2/mmaction/models/builder.py:11: UserWarning: Please install mmdet to use DETECTORS, build_detector\n",
      "  warnings.warn('Please install mmdet to use DETECTORS, build_detector')\n",
      "../mmaction2/mmaction/core/bbox/assigners/max_iou_assigner_ava.py:10: UserWarning: Please install mmdet to use AssignResult, MaxIoUAssigner and BBOX_ASSIGNERS\n",
      "  warnings.warn('Please install mmdet to use AssignResult, MaxIoUAssigner '\n",
      "../mmaction2/mmaction/models/heads/bbox_head.py:13: UserWarning: Please install mmdet to use MMDET_HEADS\n",
      "  warnings.warn('Please install mmdet to use MMDET_HEADS')\n",
      "../mmaction2/mmaction/models/heads/roi_head.py:13: UserWarning: Please install mmdet to use bbox2roi, MMDET_HEADS and StandardRoIHead\n",
      "  warnings.warn('Please install mmdet to use bbox2roi, MMDET_HEADS '\n",
      "../mmaction2/mmaction/models/roi_extractors/single_straight3d.py:9: UserWarning: Please install mmcv-full to use RoIAlign and RoIPool\n",
      "  warnings.warn('Please install mmcv-full to use RoIAlign and RoIPool')\n",
      "../mmaction2/mmaction/models/roi_extractors/single_straight3d.py:15: UserWarning: Please install mmdet to use ROI_EXTRACTORS\n",
      "  warnings.warn('Please install mmdet to use ROI_EXTRACTORS')\n"
     ]
    }
   ],
   "source": [
    "from inference.classifier_3d import *"
   ]
  },
  {
   "cell_type": "markdown",
   "metadata": {},
   "source": [
    "### Data"
   ]
  },
  {
   "cell_type": "code",
   "execution_count": 22,
   "metadata": {},
   "outputs": [],
   "source": [
    "if \"nb_frame\" not in df_pred.columns:\n",
    "    df_max_frame = df_pred[['video', 'frame']].groupby('video').max().rename(columns={\"frame\": \"nb_frame\"}).reset_index()\n",
    "    df_pred = df_pred.merge(df_max_frame, on=\"video\")"
   ]
  },
  {
   "cell_type": "code",
   "execution_count": 23,
   "metadata": {},
   "outputs": [],
   "source": [
    "df_pred_vid = df_pred[df_pred[\"video\"] == df_pred['video'].unique()[1]]\n",
    "\n",
    "dataset = NFLDatasetClsInference3D(\n",
    "    df_pred_vid,\n",
    "    visualize=True,\n",
    "    stride=2,\n",
    "    n_frames=9,\n",
    "    root=IMG_PATH_F,\n",
    ")"
   ]
  },
  {
   "cell_type": "markdown",
   "metadata": {},
   "source": [
    "### Main"
   ]
  },
  {
   "cell_type": "code",
   "execution_count": 24,
   "metadata": {},
   "outputs": [],
   "source": [
    "images = df_pred[\"image_name\"].unique()"
   ]
  },
  {
   "cell_type": "code",
   "execution_count": 26,
   "metadata": {},
   "outputs": [
    {
     "name": "stdout",
     "output_type": "stream",
     "text": [
      "\n",
      " -> Loading weights from ../logs_cls_3d/2021-01-02/13/slowonly_0.pt\n",
      "\n"
     ]
    },
    {
     "ename": "FileNotFoundError",
     "evalue": "[Errno 2] No such file or directory: '../logs_cls_3d/2021-01-02/13/slowonly_0.pt'",
     "output_type": "error",
     "traceback": [
      "\u001b[0;31m---------------------------------------------------------------------------\u001b[0m",
      "\u001b[0;31mAttributeError\u001b[0m                            Traceback (most recent call last)",
      "\u001b[0;32m~/kaggle/nfl_impact/src/utils/torch.py\u001b[0m in \u001b[0;36mload_model_weights\u001b[0;34m(model, filename, verbose, cp_folder)\u001b[0m\n\u001b[1;32m     56\u001b[0m     \u001b[0;32mtry\u001b[0m\u001b[0;34m:\u001b[0m\u001b[0;34m\u001b[0m\u001b[0;34m\u001b[0m\u001b[0m\n\u001b[0;32m---> 57\u001b[0;31m         \u001b[0mmodel\u001b[0m\u001b[0;34m.\u001b[0m\u001b[0mload_state_dict\u001b[0m\u001b[0;34m(\u001b[0m\u001b[0mos\u001b[0m\u001b[0;34m.\u001b[0m\u001b[0mpath\u001b[0m\u001b[0;34m.\u001b[0m\u001b[0mjoin\u001b[0m\u001b[0;34m(\u001b[0m\u001b[0mcp_folder\u001b[0m\u001b[0;34m,\u001b[0m \u001b[0mfilename\u001b[0m\u001b[0;34m)\u001b[0m\u001b[0;34m,\u001b[0m \u001b[0mstrict\u001b[0m\u001b[0;34m=\u001b[0m\u001b[0;32mTrue\u001b[0m\u001b[0;34m)\u001b[0m\u001b[0;34m\u001b[0m\u001b[0;34m\u001b[0m\u001b[0m\n\u001b[0m\u001b[1;32m     58\u001b[0m     \u001b[0;32mexcept\u001b[0m \u001b[0mBaseException\u001b[0m\u001b[0;34m:\u001b[0m\u001b[0;34m\u001b[0m\u001b[0;34m\u001b[0m\u001b[0m\n",
      "\u001b[0;32m/nix/store/cj2idkghg775f3df1h2pqza6bfxrbnxi-python3-3.8.6-env/lib/python3.8/site-packages/torch/nn/modules/module.py\u001b[0m in \u001b[0;36mload_state_dict\u001b[0;34m(self, state_dict, strict)\u001b[0m\n\u001b[1;32m   1024\u001b[0m         \u001b[0mmetadata\u001b[0m \u001b[0;34m=\u001b[0m \u001b[0mgetattr\u001b[0m\u001b[0;34m(\u001b[0m\u001b[0mstate_dict\u001b[0m\u001b[0;34m,\u001b[0m \u001b[0;34m'_metadata'\u001b[0m\u001b[0;34m,\u001b[0m \u001b[0;32mNone\u001b[0m\u001b[0;34m)\u001b[0m\u001b[0;34m\u001b[0m\u001b[0;34m\u001b[0m\u001b[0m\n\u001b[0;32m-> 1025\u001b[0;31m         \u001b[0mstate_dict\u001b[0m \u001b[0;34m=\u001b[0m \u001b[0mstate_dict\u001b[0m\u001b[0;34m.\u001b[0m\u001b[0mcopy\u001b[0m\u001b[0;34m(\u001b[0m\u001b[0;34m)\u001b[0m\u001b[0;34m\u001b[0m\u001b[0;34m\u001b[0m\u001b[0m\n\u001b[0m\u001b[1;32m   1026\u001b[0m         \u001b[0;32mif\u001b[0m \u001b[0mmetadata\u001b[0m \u001b[0;32mis\u001b[0m \u001b[0;32mnot\u001b[0m \u001b[0;32mNone\u001b[0m\u001b[0;34m:\u001b[0m\u001b[0;34m\u001b[0m\u001b[0;34m\u001b[0m\u001b[0m\n",
      "\u001b[0;31mAttributeError\u001b[0m: 'str' object has no attribute 'copy'",
      "\nDuring handling of the above exception, another exception occurred:\n",
      "\u001b[0;31mFileNotFoundError\u001b[0m                         Traceback (most recent call last)",
      "\u001b[0;32m<ipython-input-26-1a6a9a9bed41>\u001b[0m in \u001b[0;36m<module>\u001b[0;34m\u001b[0m\n\u001b[1;32m     14\u001b[0m \u001b[0;34m\u001b[0m\u001b[0m\n\u001b[1;32m     15\u001b[0m \u001b[0;32mfor\u001b[0m \u001b[0mmodel\u001b[0m \u001b[0;32min\u001b[0m \u001b[0mconfigs\u001b[0m\u001b[0;34m:\u001b[0m\u001b[0;34m\u001b[0m\u001b[0;34m\u001b[0m\u001b[0m\n\u001b[0;32m---> 16\u001b[0;31m     \u001b[0mmodels\u001b[0m \u001b[0;34m+=\u001b[0m \u001b[0;34m[\u001b[0m\u001b[0mretrieve_model\u001b[0m\u001b[0;34m(\u001b[0m\u001b[0mconfigs\u001b[0m\u001b[0;34m[\u001b[0m\u001b[0mmodel\u001b[0m\u001b[0;34m]\u001b[0m\u001b[0;34m,\u001b[0m \u001b[0mfold\u001b[0m\u001b[0;34m=\u001b[0m\u001b[0;36m0\u001b[0m\u001b[0;34m,\u001b[0m \u001b[0mlog_folder\u001b[0m\u001b[0;34m=\u001b[0m\u001b[0mCP_FOLDER\u001b[0m\u001b[0;34m)\u001b[0m\u001b[0;34m]\u001b[0m\u001b[0;34m\u001b[0m\u001b[0;34m\u001b[0m\u001b[0m\n\u001b[0m\u001b[1;32m     17\u001b[0m \u001b[0;34m\u001b[0m\u001b[0m\n\u001b[1;32m     18\u001b[0m \u001b[0;34m\u001b[0m\u001b[0m\n",
      "\u001b[0;32m~/kaggle/nfl_impact/src/inference/classifier_3d.py\u001b[0m in \u001b[0;36mretrieve_model\u001b[0;34m(config, fold, log_folder)\u001b[0m\n\u001b[1;32m    117\u001b[0m     \u001b[0mmodel\u001b[0m\u001b[0;34m.\u001b[0m\u001b[0mzero_grad\u001b[0m\u001b[0;34m(\u001b[0m\u001b[0;34m)\u001b[0m\u001b[0;34m\u001b[0m\u001b[0;34m\u001b[0m\u001b[0m\n\u001b[1;32m    118\u001b[0m \u001b[0;34m\u001b[0m\u001b[0m\n\u001b[0;32m--> 119\u001b[0;31m     \u001b[0mmodel\u001b[0m \u001b[0;34m=\u001b[0m \u001b[0mload_model_weights\u001b[0m\u001b[0;34m(\u001b[0m\u001b[0mmodel\u001b[0m\u001b[0;34m,\u001b[0m \u001b[0mlog_folder\u001b[0m \u001b[0;34m+\u001b[0m \u001b[0;34mf\"{config['name']}_{fold}.pt\"\u001b[0m\u001b[0;34m)\u001b[0m\u001b[0;34m\u001b[0m\u001b[0;34m\u001b[0m\u001b[0m\n\u001b[0m\u001b[1;32m    120\u001b[0m \u001b[0;34m\u001b[0m\u001b[0m\n\u001b[1;32m    121\u001b[0m     \u001b[0;32mreturn\u001b[0m \u001b[0mmodel\u001b[0m\u001b[0;34m\u001b[0m\u001b[0;34m\u001b[0m\u001b[0m\n",
      "\u001b[0;32m~/kaggle/nfl_impact/src/utils/torch.py\u001b[0m in \u001b[0;36mload_model_weights\u001b[0;34m(model, filename, verbose, cp_folder)\u001b[0m\n\u001b[1;32m     58\u001b[0m     \u001b[0;32mexcept\u001b[0m \u001b[0mBaseException\u001b[0m\u001b[0;34m:\u001b[0m\u001b[0;34m\u001b[0m\u001b[0;34m\u001b[0m\u001b[0m\n\u001b[1;32m     59\u001b[0m         model.load_state_dict(\n\u001b[0;32m---> 60\u001b[0;31m             \u001b[0mtorch\u001b[0m\u001b[0;34m.\u001b[0m\u001b[0mload\u001b[0m\u001b[0;34m(\u001b[0m\u001b[0mos\u001b[0m\u001b[0;34m.\u001b[0m\u001b[0mpath\u001b[0m\u001b[0;34m.\u001b[0m\u001b[0mjoin\u001b[0m\u001b[0;34m(\u001b[0m\u001b[0mcp_folder\u001b[0m\u001b[0;34m,\u001b[0m \u001b[0mfilename\u001b[0m\u001b[0;34m)\u001b[0m\u001b[0;34m,\u001b[0m \u001b[0mmap_location\u001b[0m\u001b[0;34m=\u001b[0m\u001b[0;34m\"cpu\"\u001b[0m\u001b[0;34m)\u001b[0m\u001b[0;34m,\u001b[0m\u001b[0;34m\u001b[0m\u001b[0;34m\u001b[0m\u001b[0m\n\u001b[0m\u001b[1;32m     61\u001b[0m             \u001b[0mstrict\u001b[0m\u001b[0;34m=\u001b[0m\u001b[0;32mTrue\u001b[0m\u001b[0;34m,\u001b[0m\u001b[0;34m\u001b[0m\u001b[0;34m\u001b[0m\u001b[0m\n\u001b[1;32m     62\u001b[0m         )\n",
      "\u001b[0;32m/nix/store/cj2idkghg775f3df1h2pqza6bfxrbnxi-python3-3.8.6-env/lib/python3.8/site-packages/torch/serialization.py\u001b[0m in \u001b[0;36mload\u001b[0;34m(f, map_location, pickle_module, **pickle_load_args)\u001b[0m\n\u001b[1;32m    579\u001b[0m         \u001b[0mpickle_load_args\u001b[0m\u001b[0;34m[\u001b[0m\u001b[0;34m'encoding'\u001b[0m\u001b[0;34m]\u001b[0m \u001b[0;34m=\u001b[0m \u001b[0;34m'utf-8'\u001b[0m\u001b[0;34m\u001b[0m\u001b[0;34m\u001b[0m\u001b[0m\n\u001b[1;32m    580\u001b[0m \u001b[0;34m\u001b[0m\u001b[0m\n\u001b[0;32m--> 581\u001b[0;31m     \u001b[0;32mwith\u001b[0m \u001b[0m_open_file_like\u001b[0m\u001b[0;34m(\u001b[0m\u001b[0mf\u001b[0m\u001b[0;34m,\u001b[0m \u001b[0;34m'rb'\u001b[0m\u001b[0;34m)\u001b[0m \u001b[0;32mas\u001b[0m \u001b[0mopened_file\u001b[0m\u001b[0;34m:\u001b[0m\u001b[0;34m\u001b[0m\u001b[0;34m\u001b[0m\u001b[0m\n\u001b[0m\u001b[1;32m    582\u001b[0m         \u001b[0;32mif\u001b[0m \u001b[0m_is_zipfile\u001b[0m\u001b[0;34m(\u001b[0m\u001b[0mopened_file\u001b[0m\u001b[0;34m)\u001b[0m\u001b[0;34m:\u001b[0m\u001b[0;34m\u001b[0m\u001b[0;34m\u001b[0m\u001b[0m\n\u001b[1;32m    583\u001b[0m             \u001b[0;31m# The zipfile reader is going to advance the current file position.\u001b[0m\u001b[0;34m\u001b[0m\u001b[0;34m\u001b[0m\u001b[0;34m\u001b[0m\u001b[0m\n",
      "\u001b[0;32m/nix/store/cj2idkghg775f3df1h2pqza6bfxrbnxi-python3-3.8.6-env/lib/python3.8/site-packages/torch/serialization.py\u001b[0m in \u001b[0;36m_open_file_like\u001b[0;34m(name_or_buffer, mode)\u001b[0m\n\u001b[1;32m    228\u001b[0m \u001b[0;32mdef\u001b[0m \u001b[0m_open_file_like\u001b[0m\u001b[0;34m(\u001b[0m\u001b[0mname_or_buffer\u001b[0m\u001b[0;34m,\u001b[0m \u001b[0mmode\u001b[0m\u001b[0;34m)\u001b[0m\u001b[0;34m:\u001b[0m\u001b[0;34m\u001b[0m\u001b[0;34m\u001b[0m\u001b[0m\n\u001b[1;32m    229\u001b[0m     \u001b[0;32mif\u001b[0m \u001b[0m_is_path\u001b[0m\u001b[0;34m(\u001b[0m\u001b[0mname_or_buffer\u001b[0m\u001b[0;34m)\u001b[0m\u001b[0;34m:\u001b[0m\u001b[0;34m\u001b[0m\u001b[0;34m\u001b[0m\u001b[0m\n\u001b[0;32m--> 230\u001b[0;31m         \u001b[0;32mreturn\u001b[0m \u001b[0m_open_file\u001b[0m\u001b[0;34m(\u001b[0m\u001b[0mname_or_buffer\u001b[0m\u001b[0;34m,\u001b[0m \u001b[0mmode\u001b[0m\u001b[0;34m)\u001b[0m\u001b[0;34m\u001b[0m\u001b[0;34m\u001b[0m\u001b[0m\n\u001b[0m\u001b[1;32m    231\u001b[0m     \u001b[0;32melse\u001b[0m\u001b[0;34m:\u001b[0m\u001b[0;34m\u001b[0m\u001b[0;34m\u001b[0m\u001b[0m\n\u001b[1;32m    232\u001b[0m         \u001b[0;32mif\u001b[0m \u001b[0;34m'w'\u001b[0m \u001b[0;32min\u001b[0m \u001b[0mmode\u001b[0m\u001b[0;34m:\u001b[0m\u001b[0;34m\u001b[0m\u001b[0;34m\u001b[0m\u001b[0m\n",
      "\u001b[0;32m/nix/store/cj2idkghg775f3df1h2pqza6bfxrbnxi-python3-3.8.6-env/lib/python3.8/site-packages/torch/serialization.py\u001b[0m in \u001b[0;36m__init__\u001b[0;34m(self, name, mode)\u001b[0m\n\u001b[1;32m    209\u001b[0m \u001b[0;32mclass\u001b[0m \u001b[0m_open_file\u001b[0m\u001b[0;34m(\u001b[0m\u001b[0m_opener\u001b[0m\u001b[0;34m)\u001b[0m\u001b[0;34m:\u001b[0m\u001b[0;34m\u001b[0m\u001b[0;34m\u001b[0m\u001b[0m\n\u001b[1;32m    210\u001b[0m     \u001b[0;32mdef\u001b[0m \u001b[0m__init__\u001b[0m\u001b[0;34m(\u001b[0m\u001b[0mself\u001b[0m\u001b[0;34m,\u001b[0m \u001b[0mname\u001b[0m\u001b[0;34m,\u001b[0m \u001b[0mmode\u001b[0m\u001b[0;34m)\u001b[0m\u001b[0;34m:\u001b[0m\u001b[0;34m\u001b[0m\u001b[0;34m\u001b[0m\u001b[0m\n\u001b[0;32m--> 211\u001b[0;31m         \u001b[0msuper\u001b[0m\u001b[0;34m(\u001b[0m\u001b[0m_open_file\u001b[0m\u001b[0;34m,\u001b[0m \u001b[0mself\u001b[0m\u001b[0;34m)\u001b[0m\u001b[0;34m.\u001b[0m\u001b[0m__init__\u001b[0m\u001b[0;34m(\u001b[0m\u001b[0mopen\u001b[0m\u001b[0;34m(\u001b[0m\u001b[0mname\u001b[0m\u001b[0;34m,\u001b[0m \u001b[0mmode\u001b[0m\u001b[0;34m)\u001b[0m\u001b[0;34m)\u001b[0m\u001b[0;34m\u001b[0m\u001b[0;34m\u001b[0m\u001b[0m\n\u001b[0m\u001b[1;32m    212\u001b[0m \u001b[0;34m\u001b[0m\u001b[0m\n\u001b[1;32m    213\u001b[0m     \u001b[0;32mdef\u001b[0m \u001b[0m__exit__\u001b[0m\u001b[0;34m(\u001b[0m\u001b[0mself\u001b[0m\u001b[0;34m,\u001b[0m \u001b[0;34m*\u001b[0m\u001b[0margs\u001b[0m\u001b[0;34m)\u001b[0m\u001b[0;34m:\u001b[0m\u001b[0;34m\u001b[0m\u001b[0;34m\u001b[0m\u001b[0m\n",
      "\u001b[0;31mFileNotFoundError\u001b[0m: [Errno 2] No such file or directory: '../logs_cls_3d/2021-01-02/13/slowonly_0.pt'"
     ]
    }
   ],
   "source": [
    "models = []\n",
    "CP_FOLDER = \"../logs_cls_3d/2021-01-02/13/\"\n",
    "\n",
    "configs = {\n",
    "    \"slowonly\": {\n",
    "        \"name\": \"slowonly\",\n",
    "        \"num_classes\": 1,\n",
    "        \"num_classes_aux\": 0,\n",
    "        \"k\": 5,\n",
    "        \"stride\": 2,\n",
    "        \"num_frames\": 9\n",
    "    },\n",
    "}\n",
    "\n",
    "for model in configs:\n",
    "    models += [retrieve_model(configs[model], fold=0, log_folder=CP_FOLDER)]\n",
    "    \n",
    "    \n",
    "preds = []\n",
    "for vid in tqdm(df_pred['video'].unique()):\n",
    "    df_pred_vid = df_pred[df_pred[\"video\"] == vid]\n",
    "\n",
    "    pred = inference(df_pred_vid, models, root=IMG_PATH_F, stride=2, n_frames=9, batch_size=128)\n",
    "    preds.append(pred)\n",
    "    \n",
    "df_pred['pred_cls_3d_02_13'] = np.concatenate(preds)\n",
    "\n",
    "# df_pred.to_csv('../output/df_preds.csv', index=False)"
   ]
  },
  {
   "cell_type": "markdown",
   "metadata": {},
   "source": [
    "# Post-processing"
   ]
  },
  {
   "cell_type": "code",
   "execution_count": 28,
   "metadata": {},
   "outputs": [],
   "source": [
    "from post_processing.adjacency import post_process_adjacency\n",
    "from post_processing.expansion import expand_boxes\n",
    "from post_processing.view import post_process_view"
   ]
  },
  {
   "cell_type": "code",
   "execution_count": 29,
   "metadata": {},
   "outputs": [],
   "source": [
    "df_pred = pd.read_csv('../output/df_preds.csv')"
   ]
  },
  {
   "cell_type": "code",
   "execution_count": 30,
   "metadata": {},
   "outputs": [],
   "source": [
    "df_pred['scores'] = df_pred['pred']"
   ]
  },
  {
   "cell_type": "code",
   "execution_count": 62,
   "metadata": {},
   "outputs": [],
   "source": [
    "weights = {  \n",
    "    'pred_cls_3d_29_6': 0.25,  #r18 ext\n",
    "    'pred_cls_3d_30_1': 0.25, #r34\n",
    "    'pred_cls_3d_30_0': 0.25, #r18\n",
    "    'pred_cls_3d_30_3': 0.25, #r18 aux\n",
    "    'pred_cls_3d_02_5': 0.66, #i3d\n",
    "    'pred_cls_3d_02_7': 0.66, # slowfast\n",
    "    'pred_cls_3d_02_13': 0.66,  # slowonly\n",
    "}"
   ]
  },
  {
   "cell_type": "code",
   "execution_count": 63,
   "metadata": {},
   "outputs": [],
   "source": [
    "#     df_pred['pred_cls_3d_29_6'].values, # 1-fold - 18 extended target\n",
    "# #     df_pred['pred_cls_3d_30_8'].values, # 5-fold - 18 extended target\n",
    "#     df_pred['pred_cls_3d_30_1'].values, # 5-fold - 34  (31/1)\n",
    "#     df_pred['pred_cls_3d_30_0'].values, # 5-fold - 18\n",
    "#     df_pred['pred_cls_3d_30_3'].values, # 5-fold - 18 aux   (31/0)\n",
    "#     df_pred['pred_cls_3d_02_5'].values, # 1-fold - i3d\n",
    "#     df_pred['pred_cls_3d_02_7'].values, # 1-fold - slowfast\n",
    "#     df_pred['pred_cls_3d_02_13'].values, # 1-fold - slowonly"
   ]
  },
  {
   "cell_type": "code",
   "execution_count": 64,
   "metadata": {},
   "outputs": [],
   "source": [
    "df_pred['pred_cls_blend'] = 0\n",
    "\n",
    "for col in weights:\n",
    "    df_pred['pred_cls_blend'] += df_pred[col] * weights[col]\n",
    "    \n",
    "df_pred['pred_cls_blend'] /= np.sum(list(weights.values()))"
   ]
  },
  {
   "cell_type": "markdown",
   "metadata": {},
   "source": [
    "### Params"
   ]
  },
  {
   "cell_type": "code",
   "execution_count": 65,
   "metadata": {},
   "outputs": [],
   "source": [
    "DET_THRESHOLD = 0.35\n",
    "CLS_THRESHOLD = 0.48\n",
    "\n",
    "# Change threshold after frame\n",
    "SWITCH_FRAME = 150\n",
    "DET_THRESHOLD2 = 0.40\n",
    "CLS_THRESHOLD2 = 0.65\n",
    "\n",
    "# Lower thresholds for sideline\n",
    "DELTA_CLS = -0.07\n",
    "DELTA_DET = -0.05\n",
    "\n",
    "# Adjacency post-processing\n",
    "NMS_THRESHOLD = 0.41\n",
    "MAX_FRAME_DIST = 9\n",
    "N_TIMES = 1\n",
    "\n",
    "# View post-processing\n",
    "MIN_DIST = 4\n",
    "VIEW_THRESHOLD = 0.86  \n",
    "\n",
    "# Boxes expansion\n",
    "R = 0.22\n",
    "\n",
    "# Ensemble\n",
    "CLS_3D_NEW = 2 #these are i3d, slowonly, slowfast\n",
    "CLS_3D_OLD = 1 # these are three resnet18, and one resnet34\n",
    "CLS_2D = 0 #these are three 2d classification models"
   ]
  },
  {
   "cell_type": "markdown",
   "metadata": {},
   "source": [
    "### Thresholding"
   ]
  },
  {
   "cell_type": "code",
   "execution_count": 66,
   "metadata": {},
   "outputs": [],
   "source": [
    "df_pred_pp = df_pred.copy()\n",
    "\n",
    "df_pred_pp1 = df_pred_pp.loc[\n",
    "    (df_pred_pp.scores > DET_THRESHOLD)\n",
    "    & (df_pred_pp.frame <= SWITCH_FRAME)\n",
    "    & (df_pred_pp.view == \"Endzone\")\n",
    "]\n",
    "df_pred_pp2 = df_pred_pp.loc[\n",
    "    (df_pred_pp.scores > DET_THRESHOLD2)\n",
    "    & (df_pred_pp.frame > SWITCH_FRAME)\n",
    "    & (df_pred_pp.view == \"Endzone\")\n",
    "]\n",
    "df_pred_pp3 = df_pred_pp.loc[\n",
    "    (df_pred_pp.scores > DET_THRESHOLD - DELTA_DET)\n",
    "    & (df_pred_pp.frame <= SWITCH_FRAME)\n",
    "    & (df_pred_pp.view == \"Sideline\")\n",
    "]\n",
    "df_pred_pp4 = df_pred_pp.loc[\n",
    "    (df_pred_pp.scores > DET_THRESHOLD2 - DELTA_DET)\n",
    "    & (df_pred_pp.frame > SWITCH_FRAME)\n",
    "    & (df_pred_pp.view == \"Sideline\")\n",
    "]\n",
    "df_pred_pp = pd.concat([df_pred_pp1, df_pred_pp2, df_pred_pp3, df_pred_pp4], axis=0).reset_index(drop=True)"
   ]
  },
  {
   "cell_type": "code",
   "execution_count": 67,
   "metadata": {},
   "outputs": [],
   "source": [
    "df_pred_pp_cls1 = df_pred_pp.copy()[\n",
    "    (df_pred_pp[\"pred_cls_blend\"] > CLS_THRESHOLD)\n",
    "    & (df_pred_pp.frame <= SWITCH_FRAME)\n",
    "    & (df_pred_pp.view == \"Endzone\")\n",
    "]\n",
    "df_pred_pp_cls2 = df_pred_pp.copy()[\n",
    "    (df_pred_pp[\"pred_cls_blend\"] > CLS_THRESHOLD2)\n",
    "    & (df_pred_pp.frame > SWITCH_FRAME)\n",
    "    & (df_pred_pp.view == \"Endzone\")\n",
    "]\n",
    "df_pred_pp_cls3 = df_pred_pp.copy()[\n",
    "    (df_pred_pp[\"pred_cls_blend\"] > CLS_THRESHOLD - DELTA_CLS)\n",
    "    & (df_pred_pp.frame <= SWITCH_FRAME)\n",
    "    & (df_pred_pp.view == \"Sideline\")\n",
    "]\n",
    "df_pred_pp_cls4 = df_pred_pp.copy()[\n",
    "    (df_pred_pp[\"pred_cls_blend\"] > CLS_THRESHOLD2 - DELTA_CLS)\n",
    "    & (df_pred_pp.frame > SWITCH_FRAME)\n",
    "    & (df_pred_pp.view == \"Sideline\")\n",
    "]\n",
    "df_pred_pp = pd.concat(\n",
    "    [df_pred_pp_cls1, df_pred_pp_cls2, df_pred_pp_cls3, df_pred_pp_cls4], axis=0\n",
    ").reset_index(drop=True)"
   ]
  },
  {
   "cell_type": "code",
   "execution_count": 68,
   "metadata": {},
   "outputs": [
    {
     "name": "stdout",
     "output_type": "stream",
     "text": [
      " -> CV score is 0.2191\n"
     ]
    }
   ],
   "source": [
    "pred_boxes_pp = get_boxes_from_df(df_pred_pp, videos)\n",
    "score = boxes_f1_score(pred_boxes_pp, gt_boxes)\n",
    "\n",
    "print(f' -> CV score is {score:.4f}')"
   ]
  },
  {
   "cell_type": "markdown",
   "metadata": {},
   "source": [
    "### Box expansion"
   ]
  },
  {
   "cell_type": "code",
   "execution_count": 69,
   "metadata": {},
   "outputs": [],
   "source": [
    "df_pred_pp = expand_boxes(df_pred_pp, r=R)"
   ]
  },
  {
   "cell_type": "markdown",
   "metadata": {},
   "source": [
    "### Adjacency Post-processing"
   ]
  },
  {
   "cell_type": "code",
   "execution_count": 70,
   "metadata": {
    "scrolled": true
   },
   "outputs": [
    {
     "data": {
      "application/vnd.jupyter.widget-view+json": {
       "model_id": "6560b116eb7f43d1ac1c33a2899eb7f3",
       "version_major": 2,
       "version_minor": 0
      },
      "text/plain": [
       "HBox(children=(HTML(value=''), FloatProgress(value=0.0, max=24.0), HTML(value='')))"
      ]
     },
     "metadata": {},
     "output_type": "display_data"
    },
    {
     "name": "stdout",
     "output_type": "stream",
     "text": [
      "\n"
     ]
    }
   ],
   "source": [
    "for i in range(N_TIMES):\n",
    "    df_pred_pp = post_process_adjacency(\n",
    "        df_pred_pp,\n",
    "        threshold=THRESHOLD_IOU,\n",
    "        max_dist=MAX_DIST,\n",
    "        min_clust_size=MIN_CLUST_SIZE,\n",
    "    )"
   ]
  },
  {
   "cell_type": "code",
   "execution_count": 71,
   "metadata": {},
   "outputs": [],
   "source": [
    "# df_pred_pp= df_pred_pp[df_pred_pp['predicted_impact_type'] != \"ground\"]"
   ]
  },
  {
   "cell_type": "code",
   "execution_count": 72,
   "metadata": {},
   "outputs": [
    {
     "name": "stdout",
     "output_type": "stream",
     "text": [
      " -> CV score is 0.5423\n"
     ]
    }
   ],
   "source": [
    "pred_boxes_pp = get_boxes_from_df(df_pred_pp, videos)\n",
    "score = boxes_f1_score(pred_boxes_pp, gt_boxes)\n",
    "\n",
    "print(f' -> CV score is {score:.4f}')"
   ]
  },
  {
   "cell_type": "markdown",
   "metadata": {},
   "source": [
    "### View PP"
   ]
  },
  {
   "cell_type": "code",
   "execution_count": 73,
   "metadata": {},
   "outputs": [],
   "source": [
    "if MIN_DIST > 0:\n",
    "    df_pred_pp_view = post_process_view(\n",
    "        df_pred_pp, \n",
    "        min_dist=MIN_DIST,\n",
    "        threshold=VIEW_THRESHOLD,\n",
    "        cls_col=\"pred_cls_blend\",\n",
    "    )"
   ]
  },
  {
   "cell_type": "code",
   "execution_count": 74,
   "metadata": {},
   "outputs": [
    {
     "name": "stdout",
     "output_type": "stream",
     "text": [
      " -> CV score is 0.5404\n"
     ]
    }
   ],
   "source": [
    "pred_boxes_pp = get_boxes_from_df(df_pred_pp_view, videos)\n",
    "score = boxes_f1_score(pred_boxes_pp, gt_boxes)\n",
    "\n",
    "print(f' -> CV score is {score:.4f}')"
   ]
  }
 ],
 "metadata": {
  "kernelspec": {
   "display_name": "venv",
   "language": "python",
   "name": "venv"
  },
  "language_info": {
   "codemirror_mode": {
    "name": "ipython",
    "version": 3
   },
   "file_extension": ".py",
   "mimetype": "text/x-python",
   "name": "python",
   "nbconvert_exporter": "python",
   "pygments_lexer": "ipython3",
   "version": "3.8.6"
  }
 },
 "nbformat": 4,
 "nbformat_minor": 4
}

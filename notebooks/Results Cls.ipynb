{
 "cells": [
  {
   "cell_type": "markdown",
   "metadata": {},
   "source": [
    "- Remove impact when no player close"
   ]
  },
  {
   "cell_type": "code",
   "execution_count": null,
   "metadata": {},
   "outputs": [],
   "source": [
    "%load_ext autoreload\n",
    "%autoreload 2"
   ]
  },
  {
   "cell_type": "code",
   "execution_count": null,
   "metadata": {},
   "outputs": [],
   "source": [
    "cd ../src/"
   ]
  },
  {
   "cell_type": "markdown",
   "metadata": {},
   "source": [
    "## Imports"
   ]
  },
  {
   "cell_type": "code",
   "execution_count": null,
   "metadata": {},
   "outputs": [],
   "source": [
    "import os\n",
    "import re\n",
    "import cv2\n",
    "import time\n",
    "import json\n",
    "import torch\n",
    "import imageio\n",
    "import numpy as np\n",
    "import pandas as pd\n",
    "import seaborn as sns\n",
    "import matplotlib.pyplot as plt\n",
    "\n",
    "from collections import Counter\n",
    "from tqdm.notebook import tqdm\n",
    "from skimage.transform import resize\n",
    "\n",
    "from sklearn.metrics import roc_auc_score, f1_score"
   ]
  },
  {
   "cell_type": "code",
   "execution_count": null,
   "metadata": {},
   "outputs": [],
   "source": [
    "from params import *\n",
    "from utils.plot import plot_confusion_matrix, visualize_preds\n",
    "from utils.post_processing import post_process_adjacency, post_process_view, post_process_view_2\n",
    "from utils.metrics import boxes_f1_score, precision_calc, get_boxes_from_df"
   ]
  },
  {
   "cell_type": "markdown",
   "metadata": {},
   "source": [
    "## Load"
   ]
  },
  {
   "cell_type": "markdown",
   "metadata": {},
   "source": [
    "### Data"
   ]
  },
  {
   "cell_type": "code",
   "execution_count": null,
   "metadata": {},
   "outputs": [],
   "source": [
    "df_train = pd.read_csv(DATA_PATH + 'df_train.csv')"
   ]
  },
  {
   "cell_type": "code",
   "execution_count": null,
   "metadata": {},
   "outputs": [],
   "source": [
    "# df_train['impact'] += 1\n",
    "# df_train['impact']"
   ]
  },
  {
   "cell_type": "code",
   "execution_count": null,
   "metadata": {},
   "outputs": [],
   "source": [
    "df_train.dropna(inplace=True)"
   ]
  },
  {
   "cell_type": "code",
   "execution_count": null,
   "metadata": {},
   "outputs": [],
   "source": [
    "frame_impacts = df_train[[\"image_name\", \"extended_impact\"]].groupby('image_name').max().reset_index()\n",
    "frame_impacts = frame_impacts.rename(columns={\"extended_impact\": \"frame_has_impact\"})\n",
    "df_train = df_train.merge(frame_impacts, on=\"image_name\")\n",
    "# df_train = df_train[df_train['frame_has_impact'] == 1]"
   ]
  },
  {
   "cell_type": "code",
   "execution_count": null,
   "metadata": {},
   "outputs": [],
   "source": [
    "folds = pd.read_csv(OUT_DIR + \"folds.csv\")\n",
    "df_train = df_train.merge(folds, on=\"video\")"
   ]
  },
  {
   "cell_type": "code",
   "execution_count": null,
   "metadata": {},
   "outputs": [],
   "source": [
    "# Multi-label approach\n",
    "aux_label = np.zeros((len(df_train), 3))\n",
    "\n",
    "aux_label[:, 0] = df_train['extended_Helmet']\n",
    "aux_label[:, 1] = np.clip(\n",
    "    df_train['extended_Shoulder'] + \n",
    "    df_train['extended_shoulder'] + \n",
    "    df_train['extended_Body'] + \n",
    "    df_train['extended_Hand'], 0, 1)\n",
    "aux_label[:, 2] = df_train['extended_Ground']"
   ]
  },
  {
   "cell_type": "code",
   "execution_count": null,
   "metadata": {},
   "outputs": [],
   "source": [
    "# Single-label approach\n",
    "aux_label = np.zeros((len(df_train)))\n",
    "\n",
    "aux_label[df_train['extended_Helmet'] == 1] = 1\n",
    "aux_label[df_train['extended_Shoulder'] == 1] = 2\n",
    "aux_label[df_train['extended_shoulder'] == 1] = 2\n",
    "aux_label[df_train['extended_Body'] == 1] = 2\n",
    "aux_label[df_train['extended_Hand'] == 1] = 2\n",
    "aux_label[df_train['extended_Ground'] == 1] = 3\n",
    "\n",
    "Counter(aux_label)"
   ]
  },
  {
   "cell_type": "markdown",
   "metadata": {},
   "source": [
    "### Results"
   ]
  },
  {
   "cell_type": "code",
   "execution_count": null,
   "metadata": {},
   "outputs": [],
   "source": [
    "CP_FOLDERS = [\n",
    "#     LOG_PATH_CLS + \"2020-12-11/37/\",  # resnet18\n",
    "#     LOG_PATH_CLS + \"2020-12-12/0/\",   # resnet34\n",
    "#     LOG_PATH_CLS + \"2020-12-12/7/\",   # efficientnet-b3\n",
    "#     LOG_PATH_CLS + \"2020-12-12/9/\",    # efficientnet-b2\n",
    "#     LOG_PATH_CLS + \"2020-12-12/11/\",    # efficientnet-b1\n",
    "#     LOG_PATH_CLS + \"2020-12-12/14/\",    # efficientnet-b4\n",
    "    \n",
    "    LOG_PATH_CLS + \"2020-12-18/0/\",    # resnet18 + aux\n",
    "    LOG_PATH_CLS + \"2020-12-18/1/\",    # efficientnet-b3 + aux\n",
    "    LOG_PATH_CLS + \"2020-12-18/2/\",    # efficientnet-b1 + aux\n",
    "]"
   ]
  },
  {
   "cell_type": "code",
   "execution_count": null,
   "metadata": {},
   "outputs": [],
   "source": [
    "configs = [json.load(open(cp_folder + f'config.json', 'r')) for cp_folder in CP_FOLDERS]"
   ]
  },
  {
   "cell_type": "code",
   "execution_count": null,
   "metadata": {},
   "outputs": [],
   "source": [
    "FOLD = None"
   ]
  },
  {
   "cell_type": "code",
   "execution_count": null,
   "metadata": {
    "scrolled": true
   },
   "outputs": [],
   "source": [
    "preds = []\n",
    "pred_aux = []\n",
    "\n",
    "for cp_folder in CP_FOLDERS:\n",
    "    if FOLD is None:\n",
    "        preds.append(np.load(cp_folder + 'pred_oof.npy'))\n",
    "        pred_aux.append(np.load(cp_folder + 'pred_oof_aux.npy'))\n",
    "    else:\n",
    "        preds.append(np.load(cp_folder + f'preds_full_{FOLD}.npy'))\n",
    "        val_idx = np.load(cp_folder + f'val_idx_{FOLD}.npy')\n",
    "        pred_aux.append(np.load(cp_folder + f'preds_aux_full_{FOLD}.npy'))\n",
    "        df_train = df_train.iloc[val_idx].copy()\n",
    "    \n",
    "pred_oof_aux = np.mean(pred_aux, 0)\n",
    "df_train['pred'] = np.mean(preds, 0)"
   ]
  },
  {
   "cell_type": "code",
   "execution_count": null,
   "metadata": {},
   "outputs": [],
   "source": [
    "roc_auc_score(df_train['extended_impact'], df_train['pred'])"
   ]
  },
  {
   "cell_type": "code",
   "execution_count": null,
   "metadata": {
    "scrolled": false
   },
   "outputs": [],
   "source": [
    "_ = plot_confusion_matrix(\n",
    "    df_train['pred'] > 0.75, \n",
    "    df_train['extended_impact'], \n",
    "    display_labels=['0', '1'], \n",
    "    figsize=(3, 3)\n",
    ")"
   ]
  },
  {
   "cell_type": "code",
   "execution_count": null,
   "metadata": {},
   "outputs": [],
   "source": [
    "df_train['pred_aux_helmet'] = pred_oof_aux[:, 1]\n",
    "df_train['pred_aux_body'] = pred_oof_aux[:, 2]\n",
    "df_train['pred_aux_ground'] = pred_oof_aux[:, 3]"
   ]
  },
  {
   "cell_type": "code",
   "execution_count": null,
   "metadata": {},
   "outputs": [],
   "source": [
    "impact_types = [\"helmet\", \"body\", \"ground\"]\n",
    "df_train['predicted_impact_type'] = [impact_types[c] for c in np.argmax(pred_oof_aux[:, 1:], 1)]"
   ]
  },
  {
   "cell_type": "code",
   "execution_count": null,
   "metadata": {},
   "outputs": [],
   "source": [
    "Counter(df_train['predicted_impact_type'])"
   ]
  },
  {
   "cell_type": "code",
   "execution_count": null,
   "metadata": {},
   "outputs": [],
   "source": [
    "impact_dict = {\"helmet\": 0, \"body\": 1, \"shoulder\": 1, \"hand\":1, \"ground\": 2}\n",
    "\n",
    "THRESHOLD_PRED = 0.7\n",
    "df_truth = df_train[df_train['impact'] == 1]\n",
    "df_pred = df_train[df_train['pred'] > THRESHOLD_PRED]\n",
    "df_truth_pred = df_pred[df_pred['impact'] == 1].reset_index(drop=True)\n",
    "df_impact = df_truth_pred[['impactType', 'predicted_impact_type']].copy()\n",
    "\n",
    "df_impact['predicted_impact_type'] = df_impact['predicted_impact_type'].apply(lambda x: impact_types.index(x))\n",
    "df_impact['impactType'] = df_impact['impactType'].apply(lambda x: impact_dict[x.lower()])\n",
    "\n",
    "plot_confusion_matrix(\n",
    "    df_impact['predicted_impact_type'], \n",
    "    df_impact['impactType'], \n",
    "    display_labels=impact_types, \n",
    "    figsize=(5, 5)\n",
    ")"
   ]
  },
  {
   "cell_type": "markdown",
   "metadata": {},
   "source": [
    "## Per player results"
   ]
  },
  {
   "cell_type": "code",
   "execution_count": null,
   "metadata": {},
   "outputs": [],
   "source": [
    "df_train['player_vid'] = df_train['video'] + \"_\" + df_train['label']"
   ]
  },
  {
   "cell_type": "code",
   "execution_count": null,
   "metadata": {},
   "outputs": [],
   "source": [
    "p = df_train[[\"player_vid\", \"impact\", \"extended_impact\", \"pred\"]].groupby('player_vid').agg(list)"
   ]
  },
  {
   "cell_type": "code",
   "execution_count": null,
   "metadata": {
    "scrolled": true
   },
   "outputs": [],
   "source": [
    "for idx in np.random.choice(len(p), 10):\n",
    "    plt.figure(figsize=(15, 5))\n",
    "    plt.plot(p['extended_impact'].values[idx])\n",
    "    plt.plot(p['pred'].values[idx])\n",
    "    for x, i in enumerate(p['impact'].values[idx]):\n",
    "        if i:\n",
    "            plt.axvline(x, c=\"salmon\")\n",
    "    plt.ylim(-0.1, 1.1)\n",
    "    plt.title(p.index[idx])\n",
    "    plt.show()"
   ]
  },
  {
   "cell_type": "code",
   "execution_count": null,
   "metadata": {},
   "outputs": [],
   "source": [
    "players = df_train[[\"player_vid\", \"extended_impact\", \"pred\"]].groupby('player_vid').agg(max)"
   ]
  },
  {
   "cell_type": "code",
   "execution_count": null,
   "metadata": {},
   "outputs": [],
   "source": [
    "_ = plot_confusion_matrix(players[\"pred\"] > 0.75, players['extended_impact'], display_labels=['0', '1'], figsize=(5, 5))"
   ]
  },
  {
   "cell_type": "markdown",
   "metadata": {},
   "source": [
    "# Evaluation"
   ]
  },
  {
   "cell_type": "code",
   "execution_count": null,
   "metadata": {},
   "outputs": [],
   "source": [
    "# Probability thresholding\n",
    "THRESHOLD_PRED = 0.7\n",
    "\n",
    "# Adjacency post-processing\n",
    "THRESHOLD_IOU = 0.35\n",
    "MAX_DIST = 4\n",
    "MIN_CLUST_SIZE = 0\n",
    "\n",
    "# View post-processing\n",
    "MIN_DIST = 10\n",
    "\n",
    "# Impact post-processing\n",
    "MAX_FRAME_DIST = 10"
   ]
  },
  {
   "cell_type": "markdown",
   "metadata": {},
   "source": [
    "## Default"
   ]
  },
  {
   "cell_type": "code",
   "execution_count": null,
   "metadata": {},
   "outputs": [],
   "source": [
    "df_truth = df_train[df_train['impact'] == 1]\n",
    "df_pred = df_train[df_train['pred'] > THRESHOLD_PRED]\n",
    "df_pred_pp = df_pred.copy()\n",
    "videos = df_truth[cols].groupby(\"video\").agg(list).index"
   ]
  },
  {
   "cell_type": "code",
   "execution_count": null,
   "metadata": {},
   "outputs": [],
   "source": [
    "gt_boxes = get_boxes_from_df(df_truth, videos)\n",
    "pred_boxes = get_boxes_from_df(df_pred_pp, videos)"
   ]
  },
  {
   "cell_type": "code",
   "execution_count": null,
   "metadata": {},
   "outputs": [],
   "source": [
    "score = boxes_f1_score(pred_boxes, gt_boxes)\n",
    "\n",
    "print(f' -> CV score is {score:.4f}')"
   ]
  },
  {
   "cell_type": "code",
   "execution_count": null,
   "metadata": {},
   "outputs": [],
   "source": [
    "truth_col = 'impact' # 'impact'\n",
    "\n",
    "df_truth = df_train[df_train[truth_col] == 1]\n",
    "df_pred = df_train[df_train['pred'] > THRESHOLD_PRED]\n",
    "\n",
    "df_fn = df_truth[df_truth['pred'] < THRESHOLD_PRED]\n",
    "df_tp = df_pred[df_pred[truth_col] == 1]\n",
    "df_fp = df_pred[df_pred[truth_col] != 1]\n",
    "df_viz = pd.concat([df_fn, df_tp, df_fp])"
   ]
  },
  {
   "cell_type": "code",
   "execution_count": null,
   "metadata": {
    "scrolled": true
   },
   "outputs": [],
   "source": [
    "for video in df_viz[\"video\"].unique():\n",
    "    df_video = df_viz[df_viz[\"video\"] == video]\n",
    "    for frame in sorted(df_video['frame'].unique()):\n",
    "        plt.figure(figsize=(16, 8))\n",
    "        visualize_preds(df_video, video, frame, root=IMG_PATH_F, truth_col=truth_col, threshold_pred=THRESHOLD_PRED)\n",
    "        plt.axis(False)\n",
    "        plt.show()\n",
    "    break"
   ]
  },
  {
   "cell_type": "markdown",
   "metadata": {},
   "source": [
    "## View post-processing"
   ]
  },
  {
   "cell_type": "code",
   "execution_count": null,
   "metadata": {},
   "outputs": [],
   "source": [
    "# df_pred_pp = post_process_view(\n",
    "#     df_pred_pp,\n",
    "#     min_dist=MIN_DIST\n",
    "# )"
   ]
  },
  {
   "cell_type": "code",
   "execution_count": null,
   "metadata": {},
   "outputs": [],
   "source": [
    "# df_pred_pp = post_process_view_2(\n",
    "#     df_pred.reset_index(drop=True),\n",
    "# )"
   ]
  },
  {
   "cell_type": "code",
   "execution_count": null,
   "metadata": {},
   "outputs": [],
   "source": [
    "pred_boxes_pp = get_boxes_from_df(df_pred_pp, videos)"
   ]
  },
  {
   "cell_type": "code",
   "execution_count": null,
   "metadata": {},
   "outputs": [],
   "source": [
    "score = boxes_f1_score(pred_boxes_pp, gt_boxes)\n",
    "\n",
    "print(f' -> Post-processed CV score is {score:.4f}')"
   ]
  },
  {
   "cell_type": "markdown",
   "metadata": {},
   "source": [
    "## Adjacent boxes post-processing"
   ]
  },
  {
   "cell_type": "code",
   "execution_count": null,
   "metadata": {
    "scrolled": true
   },
   "outputs": [],
   "source": [
    "df_pred_pp = post_process_adjacency(\n",
    "    df_pred_pp,\n",
    "    threshold=THRESHOLD_IOU,\n",
    "    max_dist=MAX_DIST,\n",
    "    min_clust_size=MIN_CLUST_SIZE,\n",
    ")"
   ]
  },
  {
   "cell_type": "code",
   "execution_count": null,
   "metadata": {},
   "outputs": [],
   "source": [
    "pred_boxes_pp = get_boxes_from_df(df_pred_pp, videos)"
   ]
  },
  {
   "cell_type": "code",
   "execution_count": null,
   "metadata": {},
   "outputs": [],
   "source": [
    "score = boxes_f1_score(pred_boxes_pp, gt_boxes)\n",
    "\n",
    "print(f' -> Post-processed CV score is {score:.4f}')"
   ]
  },
  {
   "cell_type": "markdown",
   "metadata": {},
   "source": [
    "- `threshold_pred = 0.7`:\n",
    " - b3 : `0.3480`\n",
    " - 18 + b3 : `0.3602`\n",
    " - 18 + b1 + b3 : `0.3628`\n",
    " - 18 + b1 + b3 + b4 : `0.3541`"
   ]
  },
  {
   "cell_type": "markdown",
   "metadata": {},
   "source": [
    "## Helmet post-processing"
   ]
  },
  {
   "cell_type": "code",
   "execution_count": null,
   "metadata": {},
   "outputs": [],
   "source": [
    "def frame_box_dist(b1, b2):\n",
    "    def get_center(box):\n",
    "        return (box[0] + box[1] / 2, box[2] + box[3] / 2)\n",
    "    \n",
    "    frame_dist = np.abs(b1[0] - b2[0])\n",
    "    \n",
    "    x1, y1 = get_center(b1[1:])\n",
    "    x2, y2 = get_center(b2[1:])\n",
    "    \n",
    "    box_dist = np.sqrt((x1 - x2) ** 2 + (y1 - y2) ** 2)\n",
    "    \n",
    "    return frame_dist, box_dist"
   ]
  },
  {
   "cell_type": "code",
   "execution_count": null,
   "metadata": {},
   "outputs": [],
   "source": [
    "def get_helmet_impact_to_drop(df, max_frame_dist=4):\n",
    "    df_h = df[df['predicted_impact_type'] == \"helmet\"]\n",
    "    \n",
    "    boxes = df_h[['frame', 'x', 'w', 'y', 'h']].values\n",
    "\n",
    "    # Compute distances\n",
    "    distances = np.zeros((len(boxes), len(boxes)))\n",
    "    for i in range(len(boxes)):\n",
    "        for j in range(i + 1, len(boxes)):\n",
    "            frame_dist, box_dist = frame_box_dist(boxes[i], boxes[j])\n",
    "            \n",
    "            if frame_dist < max_frame_dist:\n",
    "                distances[i, j] = - 1 / (box_dist + 1)\n",
    "                distances[j, i] = - 1 / (box_dist + 1)\n",
    "    \n",
    "    # Find pairings\n",
    "    paired = []\n",
    "    for i in range(len(boxes)):\n",
    "        for j in range(i + 1, len(boxes)):\n",
    "            if i == np.argmin(distances[j]) and j == np.argmin(distances[i]):\n",
    "                paired += [i, j]\n",
    "\n",
    "    to_drop = []\n",
    "    for i, (index, _) in enumerate(df_h.iterrows()):\n",
    "        if i not in paired:\n",
    "            to_drop.append(index)\n",
    "            \n",
    "    return to_drop"
   ]
  },
  {
   "cell_type": "code",
   "execution_count": null,
   "metadata": {},
   "outputs": [],
   "source": [
    "def post_process_helmet_impact(df, max_frame_dist=4):\n",
    "    to_drop = []\n",
    "    for keys in tqdm(df.groupby(['gameKey', 'playID']).size().to_dict().keys()):\n",
    "\n",
    "        tmp_df = df.query('gameKey == @keys[0] and playID == @keys[1]')\n",
    "        tmp_to_drop = get_helmet_impact_to_drop(tmp_df, max_frame_dist)\n",
    "\n",
    "        if len(tmp_to_drop) != len(tmp_df):\n",
    "            to_drop += tmp_to_drop\n",
    "\n",
    "    return df.drop(index=to_drop).reset_index(drop=True)"
   ]
  },
  {
   "cell_type": "code",
   "execution_count": null,
   "metadata": {},
   "outputs": [],
   "source": [
    "# df_vid = df_preds[df_preds['video'] == '57583_000082_Endzone.mp4'].copy()\n",
    "# df_vid['predicted_impact_type'][1] = \"body\"\n",
    "# df_vid_pp = post_process_helmet_impact(df_vid, max_frame_dist=MAX_FRAME_DIST)"
   ]
  },
  {
   "cell_type": "code",
   "execution_count": null,
   "metadata": {},
   "outputs": [],
   "source": [
    "# df_pred_pp = post_process_helmet_impact(\n",
    "#     df_pred_pp,\n",
    "#     max_frame_dist=MAX_FRAME_DIST,\n",
    "# )"
   ]
  },
  {
   "cell_type": "code",
   "execution_count": null,
   "metadata": {},
   "outputs": [],
   "source": [
    "pred_boxes_pp = get_boxes_from_df(df_pred_pp, videos)"
   ]
  },
  {
   "cell_type": "code",
   "execution_count": null,
   "metadata": {},
   "outputs": [],
   "source": [
    "score = boxes_f1_score(pred_boxes_pp, gt_boxes)\n",
    "\n",
    "print(f' -> Post-processed CV score is {score:.4f}')"
   ]
  },
  {
   "cell_type": "markdown",
   "metadata": {},
   "source": [
    "## Viz"
   ]
  },
  {
   "cell_type": "code",
   "execution_count": null,
   "metadata": {},
   "outputs": [],
   "source": [
    "truth_col = 'impact' # 'impact'\n",
    "\n",
    "df_truths = df_train[df_train[truth_col] == 1]\n",
    "df_preds = df_pred_pp.copy()\n",
    "\n",
    "df_fn = df_truths[df_truths['pred'] < THRESHOLD_PRED]\n",
    "df_tp = df_preds[df_preds[truth_col] == 1]\n",
    "df_fp = df_preds[df_preds[truth_col] != 1]\n",
    "df_viz = pd.concat([df_fn, df_tp, df_fp]).reset_index(drop=True)"
   ]
  },
  {
   "cell_type": "code",
   "execution_count": null,
   "metadata": {},
   "outputs": [],
   "source": [
    "def get_match(df_video):\n",
    "    cols = ['frame', 'x', 'w', 'y', 'h']\n",
    "    df_video['match'] = 0\n",
    "    p_df = df_video[df_video['pred'] > THRESHOLD_PRED].reset_index(drop=True)\n",
    "    t_df = df_video[df_video['impact'] == 1].reset_index(drop=True)\n",
    "\n",
    "    p = p_df[cols].values\n",
    "    t = t_df[cols].values\n",
    "    p[:, 2] += p[:, 1]\n",
    "    p[:, 4] += p[:, 3]\n",
    "    t[:, 2] += t[:, 1]\n",
    "    t[:, 4] += t[:, 3]\n",
    "    t = t[:, [0, 1, 3, 2, 4]]\n",
    "    p = p[:, [0, 1, 3, 2, 4]]\n",
    "\n",
    "    cost_matix, row_ind, col_ind = precision_calc(t, p, return_assignment=True)\n",
    "    \n",
    "    for i, j in zip(row_ind, col_ind):\n",
    "        if cost_matix[i, j] == 0:\n",
    "            p_df.loc[j, 'match'] = 1\n",
    "            t_df.loc[i, 'match'] = 1\n",
    "\n",
    "    return pd.concat([p_df, t_df], 0).drop_duplicates().sort_values('frame').reset_index(drop=True)"
   ]
  },
  {
   "cell_type": "code",
   "execution_count": null,
   "metadata": {
    "scrolled": true
   },
   "outputs": [],
   "source": [
    "for video in np.random.choice(df_viz[\"video\"].unique(), 5):\n",
    "# for video in df_viz[\"video\"].unique()[:1]:\n",
    "    df_video = df_viz[df_viz[\"video\"] == video].reset_index(drop=True)\n",
    "    df_matched = get_match(df_video)\n",
    "    for frame in sorted(df_matched['frame'].unique()):\n",
    "        plt.figure(figsize=(16, 8))\n",
    "        visualize_preds(\n",
    "            df_matched, \n",
    "            video, \n",
    "            frame, \n",
    "            root=IMG_PATH_F, \n",
    "            truth_col=truth_col,\n",
    "        )\n",
    "        plt.axis(False)\n",
    "        plt.show()"
   ]
  }
 ],
 "metadata": {
  "kernelspec": {
   "display_name": "venv",
   "language": "python",
   "name": "venv"
  },
  "language_info": {
   "codemirror_mode": {
    "name": "ipython",
    "version": 3
   },
   "file_extension": ".py",
   "mimetype": "text/x-python",
   "name": "python",
   "nbconvert_exporter": "python",
   "pygments_lexer": "ipython3",
   "version": "3.8.5"
  }
 },
 "nbformat": 4,
 "nbformat_minor": 4
}

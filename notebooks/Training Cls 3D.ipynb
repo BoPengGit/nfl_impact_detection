{
 "cells": [
  {
   "cell_type": "markdown",
   "metadata": {},
   "source": [
    "- Bigger crops ?"
   ]
  },
  {
   "cell_type": "code",
   "execution_count": null,
   "metadata": {},
   "outputs": [],
   "source": [
    "%load_ext autoreload\n",
    "%autoreload 2"
   ]
  },
  {
   "cell_type": "code",
   "execution_count": null,
   "metadata": {},
   "outputs": [],
   "source": [
    "cd ../src/"
   ]
  },
  {
   "cell_type": "markdown",
   "metadata": {},
   "source": [
    "## Imports"
   ]
  },
  {
   "cell_type": "code",
   "execution_count": null,
   "metadata": {},
   "outputs": [],
   "source": [
    "import os\n",
    "import re\n",
    "import cv2\n",
    "import time\n",
    "import torch\n",
    "import imageio\n",
    "import numpy as np\n",
    "import pandas as pd\n",
    "import seaborn as sns\n",
    "import matplotlib.pyplot as plt\n",
    "\n",
    "from collections import Counter\n",
    "from tqdm.notebook import tqdm\n",
    "from skimage.transform import resize"
   ]
  },
  {
   "cell_type": "code",
   "execution_count": null,
   "metadata": {},
   "outputs": [],
   "source": [
    "from params import *\n",
    "from utils.torch import seed_everything"
   ]
  },
  {
   "cell_type": "markdown",
   "metadata": {},
   "source": [
    "## Data"
   ]
  },
  {
   "cell_type": "markdown",
   "metadata": {},
   "source": [
    "### Load"
   ]
  },
  {
   "cell_type": "code",
   "execution_count": null,
   "metadata": {},
   "outputs": [],
   "source": [
    "df_train = pd.read_csv(DATA_PATH + 'df_train.csv')"
   ]
  },
  {
   "cell_type": "code",
   "execution_count": null,
   "metadata": {},
   "outputs": [],
   "source": [
    "df_train['impact'] -= 1"
   ]
  },
  {
   "cell_type": "code",
   "execution_count": null,
   "metadata": {},
   "outputs": [],
   "source": [
    "df_train.dropna(inplace=True)"
   ]
  },
  {
   "cell_type": "code",
   "execution_count": null,
   "metadata": {},
   "outputs": [],
   "source": [
    "frame_impacts = df_train[[\"image_name\", \"extended_impact\"]].groupby('image_name').max().reset_index()\n",
    "frame_impacts = frame_impacts.rename(columns={\"extended_impact\": \"frame_has_impact\"})\n",
    "df_train = df_train.merge(frame_impacts, on=\"image_name\")\n",
    "# df_train = df_train[df_train['frame_has_impact'] == 1]"
   ]
  },
  {
   "cell_type": "code",
   "execution_count": null,
   "metadata": {},
   "outputs": [],
   "source": [
    "folds = pd.read_csv(OUT_DIR + \"folds.csv\")\n",
    "df_train = df_train.merge(folds, on=\"video\")"
   ]
  },
  {
   "cell_type": "markdown",
   "metadata": {},
   "source": [
    "## Dataset"
   ]
  },
  {
   "cell_type": "code",
   "execution_count": null,
   "metadata": {},
   "outputs": [],
   "source": [
    "from data.dataset import NFLDatasetCls\n",
    "from data.transforms import get_transfos_cls"
   ]
  },
  {
   "cell_type": "code",
   "execution_count": null,
   "metadata": {},
   "outputs": [],
   "source": [
    "import cv2\n",
    "import torch\n",
    "import numpy as np\n",
    "from torch.utils.data import Dataset\n",
    "\n",
    "class NFLDatasetCls3D(Dataset):\n",
    "    def __init__(self, df, transforms=None, target_name=\"impact\", root=\"\", stride=1, n_frames=9):\n",
    "        super().__init__()\n",
    "        self.transforms = transforms\n",
    "        self.target_name = target_name\n",
    "        self.root = root\n",
    "        self.stride = stride\n",
    "        self.n_frames = n_frames\n",
    "        \n",
    "        self.groups = df.groupby([\"video\", \"label\"]).agg(list).reset_index()\n",
    "        self.groups = self.groups[self.groups[\"crop_name\"].apply(len) >= n_frames * stride].reset_index(drop=True)\n",
    "\n",
    "        self.players = (df['video'] + \"_\" + df['label']).values\n",
    "\n",
    "    def __len__(self):\n",
    "        return len(self.groups)\n",
    "\n",
    "    def __getitem__(self, idx):\n",
    "        image_names = np.array(self.groups[\"crop_name\"][idx])\n",
    "        targets = np.array(self.groups[self.target_name][idx])\n",
    "        \n",
    "        margin = self.n_frames // 2 * self.stride\n",
    "        mid_frame = np.random.randint(margin, len(targets) - margin)\n",
    "        indices = np.array([mid_frame + i * self.stride for i in range(-self.n_frames // 2 + 1, self.n_frames // 2 + 1)]) \n",
    "        \n",
    "        images = [cv2.imread(f\"{self.root}/{img}\")  for img in image_names[indices]]\n",
    "        target = np.max(targets[indices[0]:indices[-1]])\n",
    "\n",
    "#         if self.transforms:\n",
    "#             image = self.transforms(image=image)[\"image\"]\n",
    "\n",
    "        return images, target\n"
   ]
  },
  {
   "cell_type": "code",
   "execution_count": null,
   "metadata": {
    "scrolled": true
   },
   "outputs": [],
   "source": [
    "dataset = NFLDatasetCls3D(\n",
    "    df_train.copy(),\n",
    "    transforms=get_transfos_cls(visualize=True, train=True),\n",
    "    root=CROP_PATH,\n",
    "    target_name='extended_impact',\n",
    "    n_frames=5,\n",
    "    stride=3,\n",
    ")"
   ]
  },
  {
   "cell_type": "code",
   "execution_count": null,
   "metadata": {},
   "outputs": [],
   "source": [
    "i = 0\n",
    "\n",
    "images, y = dataset[i]\n",
    "\n",
    "# plt.figure(figsize=(4, 4))\n",
    "# plt.imshow(image.numpy().transpose(1, 2, 0).copy())\n",
    "# plt.title(f'Sample #{i}, y={y}')\n",
    "# plt.show()"
   ]
  },
  {
   "cell_type": "code",
   "execution_count": null,
   "metadata": {
    "scrolled": false
   },
   "outputs": [],
   "source": [
    "i = np.random.choice(len(dataset))\n",
    "seed_everything(0)\n",
    "\n",
    "for i in np.random.choice(len(dataset), 100):\n",
    "    images, y = dataset[i]\n",
    "    \n",
    "    if y:\n",
    "        plt.figure(figsize=(15, 15))\n",
    "        for i, image in enumerate(images):\n",
    "            plt.subplot(3, 3, i + 1)\n",
    "#             plt.imshow(image.numpy().transpose(1, 2, 0).copy())\n",
    "            plt.imshow(image)\n",
    "            plt.title(f'Sample #{i}, y={y}')\n",
    "        plt.show()"
   ]
  },
  {
   "cell_type": "markdown",
   "metadata": {},
   "source": [
    "## Model"
   ]
  },
  {
   "cell_type": "code",
   "execution_count": null,
   "metadata": {},
   "outputs": [],
   "source": [
    "from model_zoo.models_cls import get_model_cls"
   ]
  },
  {
   "cell_type": "code",
   "execution_count": null,
   "metadata": {
    "scrolled": false
   },
   "outputs": [],
   "source": [
    "model = get_model_cls('efficientnet-b0')"
   ]
  },
  {
   "cell_type": "code",
   "execution_count": null,
   "metadata": {},
   "outputs": [],
   "source": [
    "dataset = NFLDatasetCls(\n",
    "    df_train.copy(),\n",
    "    transforms=get_transfos_cls(visualize=False, train=True),\n",
    "    root=CROP_PATH,\n",
    ")"
   ]
  },
  {
   "cell_type": "code",
   "execution_count": null,
   "metadata": {},
   "outputs": [],
   "source": [
    "image, y = dataset[0]"
   ]
  },
  {
   "cell_type": "code",
   "execution_count": null,
   "metadata": {
    "scrolled": true
   },
   "outputs": [],
   "source": [
    "pred = model(\n",
    "    image.unsqueeze(0),\n",
    ")"
   ]
  },
  {
   "cell_type": "code",
   "execution_count": null,
   "metadata": {},
   "outputs": [],
   "source": [
    "pred"
   ]
  },
  {
   "cell_type": "markdown",
   "metadata": {},
   "source": [
    "## Training"
   ]
  },
  {
   "cell_type": "code",
   "execution_count": null,
   "metadata": {},
   "outputs": [],
   "source": [
    "from training.main_cls import k_fold_cls"
   ]
  },
  {
   "cell_type": "code",
   "execution_count": null,
   "metadata": {},
   "outputs": [],
   "source": [
    "from utils.logger import prepare_log_folder, save_config, create_logger"
   ]
  },
  {
   "cell_type": "code",
   "execution_count": null,
   "metadata": {},
   "outputs": [],
   "source": [
    "class Config:\n",
    "    \"\"\"\n",
    "    Parameters used for training\n",
    "    \"\"\"\n",
    "    # General\n",
    "    target_name = \"extended_impact\"\n",
    "    seed = 42\n",
    "    verbose = 1\n",
    "    img_path = CROP_PATH\n",
    "    device = \"cuda\" if torch.cuda.is_available() else \"cpu\"\n",
    "    save_weights = True\n",
    "\n",
    "    # k-fold\n",
    "    k = 5\n",
    "    random_state = 0\n",
    "    selected_folds = [0, 1, 2, 3, 4]\n",
    "\n",
    "    # Model\n",
    "    name = \"efficientnet-b4\"  #\"resnet18\", \"resnet34\"\n",
    "    num_classes = 1\n",
    "\n",
    "    # Training       \n",
    "    batch_size = 64\n",
    "    samples_per_player = int(5 / 64 * batch_size)\n",
    "    optimizer = \"Adam\"\n",
    "    \n",
    "    acc_steps = 1\n",
    "    epochs = 20\n",
    "    swa_first_epoch = 15\n",
    "\n",
    "    lr = 1e-3  # 5e-4 / 1e-3\n",
    "    warmup_prop = 0.05\n",
    "    val_bs = batch_size * 2\n",
    "    \n",
    "    first_epoch_eval = 0\n"
   ]
  },
  {
   "cell_type": "code",
   "execution_count": null,
   "metadata": {},
   "outputs": [],
   "source": [
    "DEBUG = False\n",
    "log_folder = None"
   ]
  },
  {
   "cell_type": "code",
   "execution_count": null,
   "metadata": {
    "scrolled": false
   },
   "outputs": [],
   "source": [
    "if not DEBUG:\n",
    "    log_folder = prepare_log_folder(LOG_PATH_CLS)\n",
    "    print(f'Logging results to {log_folder}')\n",
    "    config_df = save_config(Config, log_folder + 'config.json')\n",
    "    create_logger(directory=log_folder, name=\"logs.txt\")\n",
    "\n",
    "pred_oof = k_fold_cls(\n",
    "    Config,\n",
    "    df_train,\n",
    "    log_folder=log_folder\n",
    ")"
   ]
  }
 ],
 "metadata": {
  "kernelspec": {
   "display_name": "venv",
   "language": "python",
   "name": "venv"
  },
  "language_info": {
   "codemirror_mode": {
    "name": "ipython",
    "version": 3
   },
   "file_extension": ".py",
   "mimetype": "text/x-python",
   "name": "python",
   "nbconvert_exporter": "python",
   "pygments_lexer": "ipython3",
   "version": "3.8.5"
  }
 },
 "nbformat": 4,
 "nbformat_minor": 4
}

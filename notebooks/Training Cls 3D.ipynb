{
 "cells": [
  {
   "cell_type": "code",
   "execution_count": null,
   "metadata": {},
   "outputs": [],
   "source": [
    "%load_ext autoreload\n",
    "%autoreload 2"
   ]
  },
  {
   "cell_type": "code",
   "execution_count": null,
   "metadata": {},
   "outputs": [],
   "source": [
    "cd ../src/"
   ]
  },
  {
   "cell_type": "markdown",
   "metadata": {},
   "source": [
    "## Imports"
   ]
  },
  {
   "cell_type": "code",
   "execution_count": null,
   "metadata": {},
   "outputs": [],
   "source": [
    "import os\n",
    "import re\n",
    "import cv2\n",
    "import time\n",
    "import torch\n",
    "import imageio\n",
    "import numpy as np\n",
    "import pandas as pd\n",
    "import seaborn as sns\n",
    "import matplotlib.pyplot as plt\n",
    "\n",
    "from collections import Counter\n",
    "from tqdm.notebook import tqdm\n",
    "from skimage.transform import resize"
   ]
  },
  {
   "cell_type": "code",
   "execution_count": null,
   "metadata": {},
   "outputs": [],
   "source": [
    "from params import *"
   ]
  },
  {
   "cell_type": "markdown",
   "metadata": {},
   "source": [
    "## Data"
   ]
  },
  {
   "cell_type": "markdown",
   "metadata": {},
   "source": [
    "### Load"
   ]
  },
  {
   "cell_type": "code",
   "execution_count": null,
   "metadata": {},
   "outputs": [],
   "source": [
    "df_train = pd.read_csv(DATA_PATH + 'df_train.csv')"
   ]
  },
  {
   "cell_type": "code",
   "execution_count": null,
   "metadata": {},
   "outputs": [],
   "source": [
    "df_train.dropna(inplace=True)"
   ]
  },
  {
   "cell_type": "code",
   "execution_count": null,
   "metadata": {},
   "outputs": [],
   "source": [
    "frame_impacts = df_train[[\"image_name\", \"extended_impact\"]].groupby('image_name').max().reset_index()\n",
    "frame_impacts = frame_impacts.rename(columns={\"extended_impact\": \"frame_has_impact\"})\n",
    "df_train = df_train.merge(frame_impacts, on=\"image_name\")\n",
    "# df_train = df_train[df_train['frame_has_impact'] == 1]"
   ]
  },
  {
   "cell_type": "markdown",
   "metadata": {},
   "source": [
    "###  Aux target"
   ]
  },
  {
   "cell_type": "code",
   "execution_count": null,
   "metadata": {},
   "outputs": [],
   "source": [
    "# Single-label approach\n",
    "aux_label = np.zeros((len(df_train)))\n",
    "\n",
    "aux_label[df_train['extended_Helmet'] == 1] = 1\n",
    "aux_label[df_train['extended_Shoulder'] == 1] = 2\n",
    "aux_label[df_train['extended_shoulder'] == 1] = 2\n",
    "aux_label[df_train['extended_Body'] == 1] = 2\n",
    "aux_label[df_train['extended_Hand'] == 1] = 2\n",
    "aux_label[df_train['extended_Ground'] == 1] = 3\n",
    "\n",
    "Counter(aux_label)"
   ]
  },
  {
   "cell_type": "code",
   "execution_count": null,
   "metadata": {},
   "outputs": [],
   "source": [
    "df_train['aux_target'] = list(aux_label)"
   ]
  },
  {
   "cell_type": "code",
   "execution_count": null,
   "metadata": {},
   "outputs": [],
   "source": [
    "sns.countplot(df_train['impactType'])\n",
    "plt.yscale('log')\n",
    "plt.show()"
   ]
  },
  {
   "cell_type": "markdown",
   "metadata": {},
   "source": [
    "### Folds"
   ]
  },
  {
   "cell_type": "code",
   "execution_count": null,
   "metadata": {},
   "outputs": [],
   "source": [
    "folds = pd.read_csv(OUT_DIR + \"folds.csv\")\n",
    "df_train = df_train.merge(folds, on=\"video\")"
   ]
  },
  {
   "cell_type": "markdown",
   "metadata": {},
   "source": [
    "## Dataset"
   ]
  },
  {
   "cell_type": "code",
   "execution_count": null,
   "metadata": {},
   "outputs": [],
   "source": [
    "from data.dataset import NFLDatasetCls\n",
    "from data.transforms import get_transfos_cls"
   ]
  },
  {
   "cell_type": "code",
   "execution_count": null,
   "metadata": {
    "scrolled": true
   },
   "outputs": [],
   "source": [
    "dataset = NFLDatasetCls(\n",
    "    df_train.copy(),\n",
    "    transforms=get_transfos_cls(visualize=True, train=True),\n",
    "    root=CROP_PATH,\n",
    "    target_name='extended_impact'\n",
    ")"
   ]
  },
  {
   "cell_type": "code",
   "execution_count": null,
   "metadata": {
    "scrolled": true
   },
   "outputs": [],
   "source": [
    "i = np.random.choice(len(dataset))\n",
    "\n",
    "for i in np.random.choice(len(dataset), 100):\n",
    "    image, y, y_aux = dataset[i]\n",
    "    \n",
    "    if y:\n",
    "        plt.figure(figsize=(4, 4))\n",
    "        plt.imshow(image.numpy().transpose(1, 2, 0).copy())\n",
    "        plt.title(f'Sample #{i} - y={y} - y_aux={y_aux}')\n",
    "        plt.axis(False)\n",
    "        plt.show()"
   ]
  },
  {
   "cell_type": "markdown",
   "metadata": {},
   "source": [
    "## Model"
   ]
  },
  {
   "cell_type": "code",
   "execution_count": null,
   "metadata": {},
   "outputs": [],
   "source": [
    "from model_zoo.models_cls_3d import get_model_cls_3d"
   ]
  },
  {
   "cell_type": "code",
   "execution_count": null,
   "metadata": {
    "scrolled": false
   },
   "outputs": [],
   "source": [
    "# model = get_model_cls('efficientnet-b0', num_classes=1, num_classes_aux=5)\n",
    "model = get_model_cls_3d('resnet18', num_classes=1, num_classes_aux=0)"
   ]
  },
  {
   "cell_type": "code",
   "execution_count": null,
   "metadata": {},
   "outputs": [],
   "source": [
    "x = torch.randn(1, 3, 9, 64, 64)"
   ]
  },
  {
   "cell_type": "code",
   "execution_count": null,
   "metadata": {},
   "outputs": [],
   "source": [
    "y = model(x)"
   ]
  },
  {
   "cell_type": "code",
   "execution_count": null,
   "metadata": {},
   "outputs": [],
   "source": [
    "y[0].size()"
   ]
  },
  {
   "cell_type": "code",
   "execution_count": null,
   "metadata": {},
   "outputs": [],
   "source": [
    "dataset = NFLDatasetCls(\n",
    "    df_train.copy(),\n",
    "    transforms=get_transfos_cls(visualize=False, train=True),\n",
    "    root=CROP_PATH,\n",
    ")"
   ]
  },
  {
   "cell_type": "code",
   "execution_count": null,
   "metadata": {},
   "outputs": [],
   "source": [
    "image, y, y_aux = dataset[0]"
   ]
  },
  {
   "cell_type": "code",
   "execution_count": null,
   "metadata": {
    "scrolled": true
   },
   "outputs": [],
   "source": [
    "pred = model(\n",
    "    image.unsqueeze(0),\n",
    ")"
   ]
  },
  {
   "cell_type": "markdown",
   "metadata": {},
   "source": [
    "## Training"
   ]
  },
  {
   "cell_type": "code",
   "execution_count": null,
   "metadata": {},
   "outputs": [],
   "source": [
    "from training.main_cls import k_fold_cls"
   ]
  },
  {
   "cell_type": "code",
   "execution_count": null,
   "metadata": {},
   "outputs": [],
   "source": [
    "from utils.logger import prepare_log_folder, save_config, create_logger"
   ]
  },
  {
   "cell_type": "code",
   "execution_count": null,
   "metadata": {},
   "outputs": [],
   "source": [
    "BATCH_SIZES = {\n",
    "    \"resnet18\": 256,  # retrain ?\n",
    "    \"resnet34\": 256,  # retrain ?\n",
    "    \"resnext50_32x4d\": 128,  # 256 ?\n",
    "    \"efficientnet-b1\": 128,\n",
    "    \"efficientnet-b2\": 128,\n",
    "    \"efficientnet-b3\": 128,\n",
    "    \"efficientnet-b4\": 64,\n",
    "}"
   ]
  },
  {
   "cell_type": "code",
   "execution_count": null,
   "metadata": {},
   "outputs": [],
   "source": [
    "class Config:\n",
    "    \"\"\"\n",
    "    Parameters used for training\n",
    "    \"\"\"\n",
    "    # General\n",
    "    target_name = \"extended_impact\"\n",
    "    seed = 42\n",
    "    verbose = 1\n",
    "    img_path = CROP_PATH\n",
    "    device = \"cuda\" if torch.cuda.is_available() else \"cpu\"\n",
    "    save_weights = True\n",
    "\n",
    "    # k-fold\n",
    "    k = 5\n",
    "    random_state = 0\n",
    "    selected_folds = [0] #, 1, 2, 3, 4]\n",
    "\n",
    "    # Model\n",
    "    name = \"efficientnet-b3\"  #\"efficientnet-b3\", \"resnet18\", \"resnet34\"\n",
    "    num_classes = 1\n",
    "    \n",
    "    aux_mode = \"softmax\"  #sigmoid\n",
    "    \n",
    "#     num_classes_aux = 4 if aux_mode == \"softmax\" else 3\n",
    "    num_classes_aux = 0\n",
    "\n",
    "    # Training       \n",
    "    batch_size = BATCH_SIZES[name]\n",
    "    samples_per_player = int(5 / 64 * batch_size)\n",
    "    samples_per_player = 0\n",
    "    optimizer = \"Adam\"\n",
    "    \n",
    "    acc_steps = 1\n",
    "    epochs = 20 if samples_per_player else 4\n",
    "    swa_first_epoch = 15\n",
    "\n",
    "    lr = 1e-3  # 5e-4 / 1e-3\n",
    "    warmup_prop = 0.05\n",
    "    val_bs = batch_size * 2\n",
    "    \n",
    "    first_epoch_eval = 0\n"
   ]
  },
  {
   "cell_type": "code",
   "execution_count": null,
   "metadata": {},
   "outputs": [],
   "source": [
    "DEBUG = False\n",
    "log_folder = None"
   ]
  },
  {
   "cell_type": "code",
   "execution_count": null,
   "metadata": {
    "scrolled": false
   },
   "outputs": [],
   "source": [
    "if not DEBUG:\n",
    "    log_folder = prepare_log_folder(LOG_PATH_CLS)\n",
    "    print(f'Logging results to {log_folder}')\n",
    "    config_df = save_config(Config, log_folder + 'config.json')\n",
    "    create_logger(directory=log_folder, name=\"logs.txt\")\n",
    "\n",
    "pred_oof = k_fold_cls(\n",
    "    Config,\n",
    "    df_train,\n",
    "    log_folder=log_folder\n",
    ")"
   ]
  }
 ],
 "metadata": {
  "kernelspec": {
   "display_name": "venv",
   "language": "python",
   "name": "venv"
  },
  "language_info": {
   "codemirror_mode": {
    "name": "ipython",
    "version": 3
   },
   "file_extension": ".py",
   "mimetype": "text/x-python",
   "name": "python",
   "nbconvert_exporter": "python",
   "pygments_lexer": "ipython3",
   "version": "3.8.6"
  }
 },
 "nbformat": 4,
 "nbformat_minor": 4
}

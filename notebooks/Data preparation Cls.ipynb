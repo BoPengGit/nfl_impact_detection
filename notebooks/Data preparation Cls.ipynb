{
 "cells": [
  {
   "cell_type": "code",
   "execution_count": null,
   "metadata": {},
   "outputs": [],
   "source": [
    "%load_ext autoreload\n",
    "%autoreload 2"
   ]
  },
  {
   "cell_type": "code",
   "execution_count": null,
   "metadata": {},
   "outputs": [],
   "source": [
    "cd ../src/"
   ]
  },
  {
   "cell_type": "markdown",
   "metadata": {},
   "source": [
    "## Imports"
   ]
  },
  {
   "cell_type": "code",
   "execution_count": null,
   "metadata": {},
   "outputs": [],
   "source": [
    "import os\n",
    "import re\n",
    "import cv2\n",
    "import time\n",
    "import joblib\n",
    "import imageio\n",
    "import numpy as np\n",
    "import pandas as pd\n",
    "import matplotlib.pyplot as plt\n",
    "\n",
    "from tqdm.notebook import tqdm\n",
    "from skimage.transform import resize"
   ]
  },
  {
   "cell_type": "code",
   "execution_count": null,
   "metadata": {},
   "outputs": [],
   "source": [
    "from params import *"
   ]
  },
  {
   "cell_type": "code",
   "execution_count": null,
   "metadata": {},
   "outputs": [],
   "source": [
    "IMG_PATH = \"../../../data/nfl/\""
   ]
  },
  {
   "cell_type": "code",
   "execution_count": null,
   "metadata": {},
   "outputs": [],
   "source": [
    "df = pd.read_csv(DATA_PATH + 'df_train.csv')"
   ]
  },
  {
   "cell_type": "code",
   "execution_count": null,
   "metadata": {},
   "outputs": [],
   "source": [
    "def adapt_to_shape(box, shape):\n",
    "    if box[0] < 0:\n",
    "        box[1] -= box[0]\n",
    "        box[0] = 0\n",
    "    elif box[2] < 0:\n",
    "        box[3] -= box[2]\n",
    "        box[2] = 0\n",
    "    elif box[1] >= shape[0]:\n",
    "#         print(box, shape)\n",
    "        diff = box[1] - shape[0]\n",
    "        box[1] -= diff\n",
    "        box[0] -= diff\n",
    "#         print(box)\n",
    "    elif box[3] >= shape[1]:\n",
    "#         print(box, shape)\n",
    "        diff = box[3] - shape[1]\n",
    "        box[3] -= diff\n",
    "        box[2] -= diff\n",
    "#         print(box)\n",
    "    else:\n",
    "        print(\"BUG\")\n",
    "    \n",
    "    return box"
   ]
  },
  {
   "cell_type": "code",
   "execution_count": null,
   "metadata": {},
   "outputs": [],
   "source": [
    "def crop_helmets(image_name, df, size=64, root=\"\", out_dir=\"\"):\n",
    "    df_img = df[df['image_name'] == image_name].copy()\n",
    "\n",
    "    image = cv2.imread(root + image_name)\n",
    "    \n",
    "    boxes = df_img[['x', 'w', 'y', 'h']].values\n",
    "    boxes[:, 1] += boxes[:, 0]\n",
    "    boxes[:, 3] += boxes[:, 2]\n",
    "    \n",
    "    crop_names = []\n",
    "    for i in range(len(df_img)):\n",
    "        box = boxes[i]\n",
    "        box = extend_box(box, size=size)\n",
    "        \n",
    "        img_crop = image[box[2] : box[3], box[0] : box[1]]\n",
    "    \n",
    "        name = image_name[:-4] + f'_{i:02d}.png'\n",
    "            \n",
    "        try:\n",
    "            if img_crop.shape == (64, 64, 3):\n",
    "                cv2.imwrite(out_dir + name, img_crop)\n",
    "            else:\n",
    "                name = \"\"\n",
    "        except:\n",
    "            name = \"\"\n",
    "        \n",
    "        crop_names.append(name)\n",
    "    \n",
    "    return crop_names"
   ]
  },
  {
   "cell_type": "code",
   "execution_count": null,
   "metadata": {
    "scrolled": true
   },
   "outputs": [],
   "source": [
    "crop_names = []\n",
    "for img in tqdm(df['image_name'].unique()):\n",
    "    names = crop_helmets(\n",
    "        img,\n",
    "        df,\n",
    "        root=IMG_PATH,\n",
    "        out_dir=CROP_PATH,\n",
    "    )\n",
    "    \n",
    "    crop_names += names"
   ]
  },
  {
   "cell_type": "code",
   "execution_count": null,
   "metadata": {},
   "outputs": [],
   "source": [
    "df['crop_name'] = crop_names"
   ]
  },
  {
   "cell_type": "code",
   "execution_count": null,
   "metadata": {},
   "outputs": [],
   "source": [
    "df.to_csv(DATA_PATH + 'df_train.csv', index=False)"
   ]
  }
 ],
 "metadata": {
  "kernelspec": {
   "display_name": "venv",
   "language": "python",
   "name": "venv"
  },
  "language_info": {
   "codemirror_mode": {
    "name": "ipython",
    "version": 3
   },
   "file_extension": ".py",
   "mimetype": "text/x-python",
   "name": "python",
   "nbconvert_exporter": "python",
   "pygments_lexer": "ipython3",
   "version": "3.8.6"
  }
 },
 "nbformat": 4,
 "nbformat_minor": 4
}
